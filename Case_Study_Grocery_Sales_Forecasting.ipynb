{
  "cells": [
    {
      "cell_type": "markdown",
      "metadata": {
        "id": "view-in-github",
        "colab_type": "text"
      },
      "source": [
        "<a href=\"https://colab.research.google.com/github/bhathiya-pilanawithana/Case-study-Kaggle-Sales-Forecasting-Favorita/blob/main/Case_Study_Grocery_Sales_Forecasting.ipynb\" target=\"_parent\"><img src=\"https://colab.research.google.com/assets/colab-badge.svg\" alt=\"Open In Colab\"/></a>"
      ]
    },
    {
      "cell_type": "markdown",
      "metadata": {
        "id": "VsE_JoZqKcdN"
      },
      "source": [
        "First login to your Kaggle account and register to the competetion. Then create a token in Kaggle to use the Kaggle API. This will download 'kaggle.json' file to the local computer. (Use instructions in Method-2, Step-2 in https://www.geeksforgeeks.org/how-to-import-kaggle-datasets-directly-into-google-colab/)\n",
        "\n",
        "Then upload the json file to the root folder and run the following cell. It will download the dataset as a .zip file to the root."
      ]
    },
    {
      "cell_type": "code",
      "execution_count": 2,
      "metadata": {
        "id": "4NvIfbFUq9HW",
        "colab": {
          "base_uri": "https://localhost:8080/"
        },
        "outputId": "9a69b75c-ffc1-4969-bb2b-729817fb7c14"
      },
      "outputs": [
        {
          "output_type": "stream",
          "name": "stdout",
          "text": [
            "mkdir: cannot create directory ‘/root/.kaggle’: File exists\n"
          ]
        }
      ],
      "source": [
        "! pip install -q kaggle\n",
        "!mkdir ~/.kaggle #If the folder exists, comment this!\n",
        "!cp kaggle.json ~/.kaggle/\n",
        "!chmod 600 /root/.kaggle/kaggle.json\n",
        "!kaggle competitions download -c favorita-grocery-sales-forecasting"
      ]
    },
    {
      "cell_type": "markdown",
      "metadata": {
        "id": "B_pyvkmwOreT"
      },
      "source": [
        "The following is to unzip the  downloaded main .zip file and unzip the indivigual 7zip files contained in the main .zip file."
      ]
    },
    {
      "cell_type": "code",
      "execution_count": 3,
      "metadata": {
        "colab": {
          "base_uri": "https://localhost:8080/"
        },
        "id": "a1w8NfQzIyXj",
        "outputId": "35efc99d-eb85-4400-c951-6239a56f96b9"
      },
      "outputs": [
        {
          "output_type": "stream",
          "name": "stdout",
          "text": [
            "\n",
            "7-Zip [64] 16.02 : Copyright (c) 1999-2016 Igor Pavlov : 2016-05-21\n",
            "p7zip Version 16.02 (locale=en_US.UTF-8,Utf16=on,HugeFiles=on,64 bits,2 CPUs Intel(R) Xeon(R) CPU @ 2.20GHz (406F0),ASM,AES-NI)\n",
            "\n",
            "Scanning the drive for archives:\n",
            "  0M Scan /content/data/\b\b\b\b\b\b\b\b\b\b\b\b\b\b\b\b\b\b\b\b\b\b\b\b                        \b\b\b\b\b\b\b\b\b\b\b\b\b\b\b\b\b\b\b\b\b\b\b\b1 file, 1898 bytes (2 KiB)\n",
            "\n",
            "Extracting archive: /content/data/holidays_events.csv.7z\n",
            "--\n",
            "Path = /content/data/holidays_events.csv.7z\n",
            "Type = 7z\n",
            "Physical Size = 1898\n",
            "Headers Size = 146\n",
            "Method = LZMA2:24k\n",
            "Solid = -\n",
            "Blocks = 1\n",
            "\n",
            "  0%\b\b\b\b    \b\b\b\bEverything is Ok\n",
            "\n",
            "Size:       22309\n",
            "Compressed: 1898\n",
            "\n",
            "7-Zip [64] 16.02 : Copyright (c) 1999-2016 Igor Pavlov : 2016-05-21\n",
            "p7zip Version 16.02 (locale=en_US.UTF-8,Utf16=on,HugeFiles=on,64 bits,2 CPUs Intel(R) Xeon(R) CPU @ 2.20GHz (406F0),ASM,AES-NI)\n",
            "\n",
            "Scanning the drive for archives:\n",
            "  0M Scan /content/data/\b\b\b\b\b\b\b\b\b\b\b\b\b\b\b\b\b\b\b\b\b\b\b\b                        \b\b\b\b\b\b\b\b\b\b\b\b\b\b\b\b\b\b\b\b\b\b\b\b1 file, 14315 bytes (14 KiB)\n",
            "\n",
            "Extracting archive: /content/data/items.csv.7z\n",
            "--\n",
            "Path = /content/data/items.csv.7z\n",
            "Type = 7z\n",
            "Physical Size = 14315\n",
            "Headers Size = 122\n",
            "Method = LZMA2:17\n",
            "Solid = -\n",
            "Blocks = 1\n",
            "\n",
            "  0%\b\b\b\b    \b\b\b\bEverything is Ok\n",
            "\n",
            "Size:       101841\n",
            "Compressed: 14315\n",
            "\n",
            "7-Zip [64] 16.02 : Copyright (c) 1999-2016 Igor Pavlov : 2016-05-21\n",
            "p7zip Version 16.02 (locale=en_US.UTF-8,Utf16=on,HugeFiles=on,64 bits,2 CPUs Intel(R) Xeon(R) CPU @ 2.20GHz (406F0),ASM,AES-NI)\n",
            "\n",
            "Scanning the drive for archives:\n",
            "  0M Scan /content/data/\b\b\b\b\b\b\b\b\b\b\b\b\b\b\b\b\b\b\b\b\b\b\b\b                        \b\b\b\b\b\b\b\b\b\b\b\b\b\b\b\b\b\b\b\b\b\b\b\b1 file, 3762 bytes (4 KiB)\n",
            "\n",
            "Extracting archive: /content/data/oil.csv.7z\n",
            "--\n",
            "Path = /content/data/oil.csv.7z\n",
            "Type = 7z\n",
            "Physical Size = 3762\n",
            "Headers Size = 122\n",
            "Method = LZMA2:24k\n",
            "Solid = -\n",
            "Blocks = 1\n",
            "\n",
            "  0%\b\b\b\b    \b\b\b\bEverything is Ok\n",
            "\n",
            "Size:       20580\n",
            "Compressed: 3762\n",
            "\n",
            "7-Zip [64] 16.02 : Copyright (c) 1999-2016 Igor Pavlov : 2016-05-21\n",
            "p7zip Version 16.02 (locale=en_US.UTF-8,Utf16=on,HugeFiles=on,64 bits,2 CPUs Intel(R) Xeon(R) CPU @ 2.20GHz (406F0),ASM,AES-NI)\n",
            "\n",
            "Scanning the drive for archives:\n",
            "  0M Scan /content/data/\b\b\b\b\b\b\b\b\b\b\b\b\b\b\b\b\b\b\b\b\b\b\b\b                        \b\b\b\b\b\b\b\b\b\b\b\b\b\b\b\b\b\b\b\b\b\b\b\b1 file, 648 bytes (1 KiB)\n",
            "\n",
            "Extracting archive: /content/data/stores.csv.7z\n",
            "--\n",
            "Path = /content/data/stores.csv.7z\n",
            "Type = 7z\n",
            "Physical Size = 648\n",
            "Headers Size = 130\n",
            "Method = LZMA2:12\n",
            "Solid = -\n",
            "Blocks = 1\n",
            "\n",
            "  0%\b\b\b\b    \b\b\b\bEverything is Ok\n",
            "\n",
            "Size:       1387\n",
            "Compressed: 648\n",
            "\n",
            "7-Zip [64] 16.02 : Copyright (c) 1999-2016 Igor Pavlov : 2016-05-21\n",
            "p7zip Version 16.02 (locale=en_US.UTF-8,Utf16=on,HugeFiles=on,64 bits,2 CPUs Intel(R) Xeon(R) CPU @ 2.20GHz (406F0),ASM,AES-NI)\n",
            "\n",
            "Scanning the drive for archives:\n",
            "  0M Scan /content/data/\b\b\b\b\b\b\b\b\b\b\b\b\b\b\b\b\b\b\b\b\b\b\b\b                        \b\b\b\b\b\b\b\b\b\b\b\b\b\b\b\b\b\b\b\b\b\b\b\b1 file, 4885065 bytes (4771 KiB)\n",
            "\n",
            "Extracting archive: /content/data/test.csv.7z\n",
            "--\n",
            "Path = /content/data/test.csv.7z\n",
            "Type = 7z\n",
            "Physical Size = 4885065\n",
            "Headers Size = 122\n",
            "Method = LZMA2:24\n",
            "Solid = -\n",
            "Blocks = 1\n",
            "\n",
            "  0%\b\b\b\b    \b\b\b\b 19% - test.csv\b\b\b\b\b\b\b\b\b\b\b\b\b\b\b               \b\b\b\b\b\b\b\b\b\b\b\b\b\b\b 39% - test.csv\b\b\b\b\b\b\b\b\b\b\b\b\b\b\b               \b\b\b\b\b\b\b\b\b\b\b\b\b\b\b 63% - test.csv\b\b\b\b\b\b\b\b\b\b\b\b\b\b\b               \b\b\b\b\b\b\b\b\b\b\b\b\b\b\b 89% - test.csv\b\b\b\b\b\b\b\b\b\b\b\b\b\b\b               \b\b\b\b\b\b\b\b\b\b\b\b\b\b\bEverything is Ok\n",
            "\n",
            "Size:       126163026\n",
            "Compressed: 4885065\n",
            "\n",
            "7-Zip [64] 16.02 : Copyright (c) 1999-2016 Igor Pavlov : 2016-05-21\n",
            "p7zip Version 16.02 (locale=en_US.UTF-8,Utf16=on,HugeFiles=on,64 bits,2 CPUs Intel(R) Xeon(R) CPU @ 2.20GHz (406F0),ASM,AES-NI)\n",
            "\n",
            "Scanning the drive for archives:\n",
            "  0M Scan /content/data/\b\b\b\b\b\b\b\b\b\b\b\b\b\b\b\b\b\b\b\b\b\b\b\b                        \b\b\b\b\b\b\b\b\b\b\b\b\b\b\b\b\b\b\b\b\b\b\b\b1 file, 474092593 bytes (453 MiB)\n",
            "\n",
            "Extracting archive: /content/data/train.csv.7z\n",
            "--\n",
            "Path = /content/data/train.csv.7z\n",
            "Type = 7z\n",
            "Physical Size = 474092593\n",
            "Headers Size = 122\n",
            "Method = LZMA2:24\n",
            "Solid = -\n",
            "Blocks = 1\n",
            "\n",
            "  0%\b\b\b\b    \b\b\b\b  0% - train.csv\b\b\b\b\b\b\b\b\b\b\b\b\b\b\b\b                \b\b\b\b\b\b\b\b\b\b\b\b\b\b\b\b  1% - train.csv\b\b\b\b\b\b\b\b\b\b\b\b\b\b\b\b                \b\b\b\b\b\b\b\b\b\b\b\b\b\b\b\b  2% - train.csv\b\b\b\b\b\b\b\b\b\b\b\b\b\b\b\b                \b\b\b\b\b\b\b\b\b\b\b\b\b\b\b\b  3% - train.csv\b\b\b\b\b\b\b\b\b\b\b\b\b\b\b\b                \b\b\b\b\b\b\b\b\b\b\b\b\b\b\b\b  4% - train.csv\b\b\b\b\b\b\b\b\b\b\b\b\b\b\b\b                \b\b\b\b\b\b\b\b\b\b\b\b\b\b\b\b  5% - train.csv\b\b\b\b\b\b\b\b\b\b\b\b\b\b\b\b                \b\b\b\b\b\b\b\b\b\b\b\b\b\b\b\b  6% - train.csv\b\b\b\b\b\b\b\b\b\b\b\b\b\b\b\b                \b\b\b\b\b\b\b\b\b\b\b\b\b\b\b\b  7% - train.csv\b\b\b\b\b\b\b\b\b\b\b\b\b\b\b\b                \b\b\b\b\b\b\b\b\b\b\b\b\b\b\b\b  8% - train.csv\b\b\b\b\b\b\b\b\b\b\b\b\b\b\b\b                \b\b\b\b\b\b\b\b\b\b\b\b\b\b\b\b  9% - train.csv\b\b\b\b\b\b\b\b\b\b\b\b\b\b\b\b                \b\b\b\b\b\b\b\b\b\b\b\b\b\b\b\b 10% - train.csv\b\b\b\b\b\b\b\b\b\b\b\b\b\b\b\b                \b\b\b\b\b\b\b\b\b\b\b\b\b\b\b\b 11% - train.csv\b\b\b\b\b\b\b\b\b\b\b\b\b\b\b\b                \b\b\b\b\b\b\b\b\b\b\b\b\b\b\b\b 12% - train.csv\b\b\b\b\b\b\b\b\b\b\b\b\b\b\b\b                \b\b\b\b\b\b\b\b\b\b\b\b\b\b\b\b 13% - train.csv\b\b\b\b\b\b\b\b\b\b\b\b\b\b\b\b                \b\b\b\b\b\b\b\b\b\b\b\b\b\b\b\b 14% - train.csv\b\b\b\b\b\b\b\b\b\b\b\b\b\b\b\b                \b\b\b\b\b\b\b\b\b\b\b\b\b\b\b\b 15% - train.csv\b\b\b\b\b\b\b\b\b\b\b\b\b\b\b\b                \b\b\b\b\b\b\b\b\b\b\b\b\b\b\b\b 16% - train.csv\b\b\b\b\b\b\b\b\b\b\b\b\b\b\b\b                \b\b\b\b\b\b\b\b\b\b\b\b\b\b\b\b 17% - train.csv\b\b\b\b\b\b\b\b\b\b\b\b\b\b\b\b                \b\b\b\b\b\b\b\b\b\b\b\b\b\b\b\b 18% - train.csv\b\b\b\b\b\b\b\b\b\b\b\b\b\b\b\b                \b\b\b\b\b\b\b\b\b\b\b\b\b\b\b\b 19% - train.csv\b\b\b\b\b\b\b\b\b\b\b\b\b\b\b\b                \b\b\b\b\b\b\b\b\b\b\b\b\b\b\b\b 20% - train.csv\b\b\b\b\b\b\b\b\b\b\b\b\b\b\b\b                \b\b\b\b\b\b\b\b\b\b\b\b\b\b\b\b 21% - train.csv\b\b\b\b\b\b\b\b\b\b\b\b\b\b\b\b                \b\b\b\b\b\b\b\b\b\b\b\b\b\b\b\b 22% - train.csv\b\b\b\b\b\b\b\b\b\b\b\b\b\b\b\b                \b\b\b\b\b\b\b\b\b\b\b\b\b\b\b\b 23% - train.csv\b\b\b\b\b\b\b\b\b\b\b\b\b\b\b\b                \b\b\b\b\b\b\b\b\b\b\b\b\b\b\b\b 24% - train.csv\b\b\b\b\b\b\b\b\b\b\b\b\b\b\b\b                \b\b\b\b\b\b\b\b\b\b\b\b\b\b\b\b 25% - train.csv\b\b\b\b\b\b\b\b\b\b\b\b\b\b\b\b                \b\b\b\b\b\b\b\b\b\b\b\b\b\b\b\b 26% - train.csv\b\b\b\b\b\b\b\b\b\b\b\b\b\b\b\b                \b\b\b\b\b\b\b\b\b\b\b\b\b\b\b\b 27% - train.csv\b\b\b\b\b\b\b\b\b\b\b\b\b\b\b\b                \b\b\b\b\b\b\b\b\b\b\b\b\b\b\b\b 28% - train.csv\b\b\b\b\b\b\b\b\b\b\b\b\b\b\b\b                \b\b\b\b\b\b\b\b\b\b\b\b\b\b\b\b 29% - train.csv\b\b\b\b\b\b\b\b\b\b\b\b\b\b\b\b                \b\b\b\b\b\b\b\b\b\b\b\b\b\b\b\b 30% - train.csv\b\b\b\b\b\b\b\b\b\b\b\b\b\b\b\b                \b\b\b\b\b\b\b\b\b\b\b\b\b\b\b\b 31% - train.csv\b\b\b\b\b\b\b\b\b\b\b\b\b\b\b\b                \b\b\b\b\b\b\b\b\b\b\b\b\b\b\b\b 32% - train.csv\b\b\b\b\b\b\b\b\b\b\b\b\b\b\b\b                \b\b\b\b\b\b\b\b\b\b\b\b\b\b\b\b 33% - train.csv\b\b\b\b\b\b\b\b\b\b\b\b\b\b\b\b                \b\b\b\b\b\b\b\b\b\b\b\b\b\b\b\b 34% - train.csv\b\b\b\b\b\b\b\b\b\b\b\b\b\b\b\b                \b\b\b\b\b\b\b\b\b\b\b\b\b\b\b\b 35% - train.csv\b\b\b\b\b\b\b\b\b\b\b\b\b\b\b\b                \b\b\b\b\b\b\b\b\b\b\b\b\b\b\b\b 36% - train.csv\b\b\b\b\b\b\b\b\b\b\b\b\b\b\b\b                \b\b\b\b\b\b\b\b\b\b\b\b\b\b\b\b 37% - train.csv\b\b\b\b\b\b\b\b\b\b\b\b\b\b\b\b                \b\b\b\b\b\b\b\b\b\b\b\b\b\b\b\b 38% - train.csv\b\b\b\b\b\b\b\b\b\b\b\b\b\b\b\b                \b\b\b\b\b\b\b\b\b\b\b\b\b\b\b\b 39% - train.csv\b\b\b\b\b\b\b\b\b\b\b\b\b\b\b\b                \b\b\b\b\b\b\b\b\b\b\b\b\b\b\b\b 40% - train.csv\b\b\b\b\b\b\b\b\b\b\b\b\b\b\b\b                \b\b\b\b\b\b\b\b\b\b\b\b\b\b\b\b 41% - train.csv\b\b\b\b\b\b\b\b\b\b\b\b\b\b\b\b                \b\b\b\b\b\b\b\b\b\b\b\b\b\b\b\b 42% - train.csv\b\b\b\b\b\b\b\b\b\b\b\b\b\b\b\b                \b\b\b\b\b\b\b\b\b\b\b\b\b\b\b\b 43% - train.csv\b\b\b\b\b\b\b\b\b\b\b\b\b\b\b\b                \b\b\b\b\b\b\b\b\b\b\b\b\b\b\b\b 44% - train.csv\b\b\b\b\b\b\b\b\b\b\b\b\b\b\b\b                \b\b\b\b\b\b\b\b\b\b\b\b\b\b\b\b 45% - train.csv\b\b\b\b\b\b\b\b\b\b\b\b\b\b\b\b                \b\b\b\b\b\b\b\b\b\b\b\b\b\b\b\b 46% - train.csv\b\b\b\b\b\b\b\b\b\b\b\b\b\b\b\b                \b\b\b\b\b\b\b\b\b\b\b\b\b\b\b\b 47% - train.csv\b\b\b\b\b\b\b\b\b\b\b\b\b\b\b\b                \b\b\b\b\b\b\b\b\b\b\b\b\b\b\b\b 48% - train.csv\b\b\b\b\b\b\b\b\b\b\b\b\b\b\b\b                \b\b\b\b\b\b\b\b\b\b\b\b\b\b\b\b 49% - train.csv\b\b\b\b\b\b\b\b\b\b\b\b\b\b\b\b                \b\b\b\b\b\b\b\b\b\b\b\b\b\b\b\b 50% - train.csv\b\b\b\b\b\b\b\b\b\b\b\b\b\b\b\b                \b\b\b\b\b\b\b\b\b\b\b\b\b\b\b\b 51% - train.csv\b\b\b\b\b\b\b\b\b\b\b\b\b\b\b\b                \b\b\b\b\b\b\b\b\b\b\b\b\b\b\b\b 52% - train.csv\b\b\b\b\b\b\b\b\b\b\b\b\b\b\b\b                \b\b\b\b\b\b\b\b\b\b\b\b\b\b\b\b 53% - train.csv\b\b\b\b\b\b\b\b\b\b\b\b\b\b\b\b                \b\b\b\b\b\b\b\b\b\b\b\b\b\b\b\b 54% - train.csv\b\b\b\b\b\b\b\b\b\b\b\b\b\b\b\b                \b\b\b\b\b\b\b\b\b\b\b\b\b\b\b\b 55% - train.csv\b\b\b\b\b\b\b\b\b\b\b\b\b\b\b\b                \b\b\b\b\b\b\b\b\b\b\b\b\b\b\b\b 56% - train.csv\b\b\b\b\b\b\b\b\b\b\b\b\b\b\b\b                \b\b\b\b\b\b\b\b\b\b\b\b\b\b\b\b 57% - train.csv\b\b\b\b\b\b\b\b\b\b\b\b\b\b\b\b                \b\b\b\b\b\b\b\b\b\b\b\b\b\b\b\b 58% - train.csv\b\b\b\b\b\b\b\b\b\b\b\b\b\b\b\b                \b\b\b\b\b\b\b\b\b\b\b\b\b\b\b\b 59% - train.csv\b\b\b\b\b\b\b\b\b\b\b\b\b\b\b\b                \b\b\b\b\b\b\b\b\b\b\b\b\b\b\b\b 60% - train.csv\b\b\b\b\b\b\b\b\b\b\b\b\b\b\b\b                \b\b\b\b\b\b\b\b\b\b\b\b\b\b\b\b 61% - train.csv\b\b\b\b\b\b\b\b\b\b\b\b\b\b\b\b                \b\b\b\b\b\b\b\b\b\b\b\b\b\b\b\b 62% - train.csv\b\b\b\b\b\b\b\b\b\b\b\b\b\b\b\b                \b\b\b\b\b\b\b\b\b\b\b\b\b\b\b\b 63% - train.csv\b\b\b\b\b\b\b\b\b\b\b\b\b\b\b\b                \b\b\b\b\b\b\b\b\b\b\b\b\b\b\b\b 64% - train.csv\b\b\b\b\b\b\b\b\b\b\b\b\b\b\b\b                \b\b\b\b\b\b\b\b\b\b\b\b\b\b\b\b 65% - train.csv\b\b\b\b\b\b\b\b\b\b\b\b\b\b\b\b                \b\b\b\b\b\b\b\b\b\b\b\b\b\b\b\b 66% - train.csv\b\b\b\b\b\b\b\b\b\b\b\b\b\b\b\b                \b\b\b\b\b\b\b\b\b\b\b\b\b\b\b\b 67% - train.csv\b\b\b\b\b\b\b\b\b\b\b\b\b\b\b\b                \b\b\b\b\b\b\b\b\b\b\b\b\b\b\b\b 68% - train.csv\b\b\b\b\b\b\b\b\b\b\b\b\b\b\b\b                \b\b\b\b\b\b\b\b\b\b\b\b\b\b\b\b 69% - train.csv\b\b\b\b\b\b\b\b\b\b\b\b\b\b\b\b                \b\b\b\b\b\b\b\b\b\b\b\b\b\b\b\b 70% - train.csv\b\b\b\b\b\b\b\b\b\b\b\b\b\b\b\b                \b\b\b\b\b\b\b\b\b\b\b\b\b\b\b\b 71% - train.csv\b\b\b\b\b\b\b\b\b\b\b\b\b\b\b\b                \b\b\b\b\b\b\b\b\b\b\b\b\b\b\b\b 72% - train.csv\b\b\b\b\b\b\b\b\b\b\b\b\b\b\b\b                \b\b\b\b\b\b\b\b\b\b\b\b\b\b\b\b 73% - train.csv\b\b\b\b\b\b\b\b\b\b\b\b\b\b\b\b                \b\b\b\b\b\b\b\b\b\b\b\b\b\b\b\b 74% - train.csv\b\b\b\b\b\b\b\b\b\b\b\b\b\b\b\b                \b\b\b\b\b\b\b\b\b\b\b\b\b\b\b\b 75% - train.csv\b\b\b\b\b\b\b\b\b\b\b\b\b\b\b\b                \b\b\b\b\b\b\b\b\b\b\b\b\b\b\b\b 76% - train.csv\b\b\b\b\b\b\b\b\b\b\b\b\b\b\b\b                \b\b\b\b\b\b\b\b\b\b\b\b\b\b\b\b 77% - train.csv\b\b\b\b\b\b\b\b\b\b\b\b\b\b\b\b                \b\b\b\b\b\b\b\b\b\b\b\b\b\b\b\b 78% - train.csv\b\b\b\b\b\b\b\b\b\b\b\b\b\b\b\b                \b\b\b\b\b\b\b\b\b\b\b\b\b\b\b\b 79% - train.csv\b\b\b\b\b\b\b\b\b\b\b\b\b\b\b\b                \b\b\b\b\b\b\b\b\b\b\b\b\b\b\b\b 80% - train.csv\b\b\b\b\b\b\b\b\b\b\b\b\b\b\b\b                \b\b\b\b\b\b\b\b\b\b\b\b\b\b\b\b 81% - train.csv\b\b\b\b\b\b\b\b\b\b\b\b\b\b\b\b                \b\b\b\b\b\b\b\b\b\b\b\b\b\b\b\b 82% - train.csv\b\b\b\b\b\b\b\b\b\b\b\b\b\b\b\b                \b\b\b\b\b\b\b\b\b\b\b\b\b\b\b\b 83% - train.csv\b\b\b\b\b\b\b\b\b\b\b\b\b\b\b\b                \b\b\b\b\b\b\b\b\b\b\b\b\b\b\b\b 84% - train.csv\b\b\b\b\b\b\b\b\b\b\b\b\b\b\b\b                \b\b\b\b\b\b\b\b\b\b\b\b\b\b\b\b 85% - train.csv\b\b\b\b\b\b\b\b\b\b\b\b\b\b\b\b                \b\b\b\b\b\b\b\b\b\b\b\b\b\b\b\b 86% - train.csv\b\b\b\b\b\b\b\b\b\b\b\b\b\b\b\b                \b\b\b\b\b\b\b\b\b\b\b\b\b\b\b\b 87% - train.csv\b\b\b\b\b\b\b\b\b\b\b\b\b\b\b\b                \b\b\b\b\b\b\b\b\b\b\b\b\b\b\b\b 88% - train.csv\b\b\b\b\b\b\b\b\b\b\b\b\b\b\b\b                \b\b\b\b\b\b\b\b\b\b\b\b\b\b\b\b 89% - train.csv\b\b\b\b\b\b\b\b\b\b\b\b\b\b\b\b                \b\b\b\b\b\b\b\b\b\b\b\b\b\b\b\b 90% - train.csv\b\b\b\b\b\b\b\b\b\b\b\b\b\b\b\b                \b\b\b\b\b\b\b\b\b\b\b\b\b\b\b\b 91% - train.csv\b\b\b\b\b\b\b\b\b\b\b\b\b\b\b\b                \b\b\b\b\b\b\b\b\b\b\b\b\b\b\b\b 92% - train.csv\b\b\b\b\b\b\b\b\b\b\b\b\b\b\b\b                \b\b\b\b\b\b\b\b\b\b\b\b\b\b\b\b 93% - train.csv\b\b\b\b\b\b\b\b\b\b\b\b\b\b\b\b                \b\b\b\b\b\b\b\b\b\b\b\b\b\b\b\b 94% - train.csv\b\b\b\b\b\b\b\b\b\b\b\b\b\b\b\b                \b\b\b\b\b\b\b\b\b\b\b\b\b\b\b\b 95% - train.csv\b\b\b\b\b\b\b\b\b\b\b\b\b\b\b\b                \b\b\b\b\b\b\b\b\b\b\b\b\b\b\b\b 96% - train.csv\b\b\b\b\b\b\b\b\b\b\b\b\b\b\b\b                \b\b\b\b\b\b\b\b\b\b\b\b\b\b\b\b 97% - train.csv\b\b\b\b\b\b\b\b\b\b\b\b\b\b\b\b                \b\b\b\b\b\b\b\b\b\b\b\b\b\b\b\b 98% - train.csv\b\b\b\b\b\b\b\b\b\b\b\b\b\b\b\b                \b\b\b\b\b\b\b\b\b\b\b\b\b\b\b\b 99% - train.csv\b\b\b\b\b\b\b\b\b\b\b\b\b\b\b\b                \b\b\b\b\b\b\b\b\b\b\b\b\b\b\b\b100% 1\b\b\b\b\b\b      \b\b\b\b\b\bEverything is Ok\n",
            "\n",
            "Size:       4997452288\n",
            "Compressed: 474092593\n",
            "\n",
            "7-Zip [64] 16.02 : Copyright (c) 1999-2016 Igor Pavlov : 2016-05-21\n",
            "p7zip Version 16.02 (locale=en_US.UTF-8,Utf16=on,HugeFiles=on,64 bits,2 CPUs Intel(R) Xeon(R) CPU @ 2.20GHz (406F0),ASM,AES-NI)\n",
            "\n",
            "Scanning the drive for archives:\n",
            "  0M Scan /content/data/\b\b\b\b\b\b\b\b\b\b\b\b\b\b\b\b\b\b\b\b\b\b\b\b                        \b\b\b\b\b\b\b\b\b\b\b\b\b\b\b\b\b\b\b\b\b\b\b\b1 file, 219499 bytes (215 KiB)\n",
            "\n",
            "Extracting archive: /content/data/transactions.csv.7z\n",
            "--\n",
            "Path = /content/data/transactions.csv.7z\n",
            "Type = 7z\n",
            "Physical Size = 219499\n",
            "Headers Size = 138\n",
            "Method = LZMA2:1536k\n",
            "Solid = -\n",
            "Blocks = 1\n",
            "\n",
            "  0%\b\b\b\b    \b\b\b\bEverything is Ok\n",
            "\n",
            "Size:       1552637\n",
            "Compressed: 219499\n"
          ]
        }
      ],
      "source": [
        "import zipfile\n",
        "with zipfile.ZipFile('favorita-grocery-sales-forecasting.zip', 'r') as zip_ref:\n",
        "    zip_ref.extractall('data')\n",
        "\n",
        "!7z e /content/data/holidays_events.csv.7z -aoa\n",
        "!7z e /content/data/items.csv.7z -aoa\n",
        "!7z e /content/data/oil.csv.7z -aoa\n",
        "!7z e /content/data/stores.csv.7z -aoa\n",
        "!7z e /content/data/test.csv.7z -aoa\n",
        "!7z e /content/data/train.csv.7z -aoa\n",
        "!7z e /content/data/transactions.csv.7z -aoa"
      ]
    },
    {
      "cell_type": "code",
      "source": [
        "!pip install \"numpy<2.0.0\" --force-reinstall #CatBoost requires an older Numpy Version\n",
        "!pip install catboost --force-reinstall"
      ],
      "metadata": {
        "id": "AsS6ntHu2tLS"
      },
      "execution_count": null,
      "outputs": []
    },
    {
      "cell_type": "markdown",
      "source": [
        "### Reading Training CSV file\n",
        "\n",
        "The csv file 'train' is too large to be loaded fully into the compute with 12GB RAM. Therefore, the following two code cells use chunking to read the csv file chunk by chunk and appended or skip the chunk based on chunk's date range."
      ],
      "metadata": {
        "id": "1FOrSZoFt7ca"
      }
    },
    {
      "cell_type": "code",
      "execution_count": 1,
      "metadata": {
        "id": "6vT1amJQMC3d"
      },
      "outputs": [],
      "source": [
        "import pandas as pd\n",
        "import numpy as np\n",
        "import gc\n",
        "\n",
        "df_train_chunks = pd.read_csv(\n",
        "    'train.csv',\n",
        "    parse_dates = ['date'],\n",
        "    date_format = '%d/%m/%Y',\n",
        "    chunksize = 5000000,\n",
        "    dtype = {\n",
        "        'id': np.int64,\n",
        "        'store_nbr': np.int64,\n",
        "        'item_nbr': np.int64,\n",
        "        'unit_sales': np.float64,\n",
        "        },\n",
        "    low_memory = False\n",
        ")"
      ]
    },
    {
      "cell_type": "code",
      "execution_count": 2,
      "metadata": {
        "colab": {
          "base_uri": "https://localhost:8080/"
        },
        "id": "Y1g2qzBgMlIs",
        "outputId": "07411424-d3b4-4fa2-c6a4-c2f13d5d28a0"
      },
      "outputs": [
        {
          "output_type": "stream",
          "name": "stdout",
          "text": [
            "Chunk in process: from 2013-01-01 00:00:00 to 2013-05-01 00:00:00\n",
            "\tSkipping.\n",
            "Chunk in process: from 2013-05-01 00:00:00 to 2013-08-21 00:00:00\n",
            "\tSkipping.\n",
            "Chunk in process: from 2013-08-21 00:00:00 to 2013-12-05 00:00:00\n",
            "\tSkipping.\n",
            "Chunk in process: from 2013-12-05 00:00:00 to 2014-03-06 00:00:00\n",
            "\tSkipping.\n",
            "Chunk in process: from 2014-03-06 00:00:00 to 2014-06-07 00:00:00\n",
            "\tSkipping.\n",
            "Chunk in process: from 2014-06-07 00:00:00 to 2014-09-01 00:00:00\n",
            "\tSkipping.\n",
            "Chunk in process: from 2014-09-01 00:00:00 to 2014-11-11 00:00:00\n",
            "\tSkipping.\n",
            "Chunk in process: from 2014-11-11 00:00:00 to 2015-01-25 00:00:00\n",
            "\tSkipping.\n",
            "Chunk in process: from 2015-01-25 00:00:00 to 2015-04-17 00:00:00\n",
            "\tSkipping.\n",
            "Chunk in process: from 2015-04-17 00:00:00 to 2015-06-27 00:00:00\n",
            "\tSkipping.\n",
            "Chunk in process: from 2015-06-27 00:00:00 to 2015-08-27 00:00:00\n",
            "\tSkipping.\n",
            "Chunk in process: from 2015-08-27 00:00:00 to 2015-10-22 00:00:00\n",
            "\tSkipping.\n",
            "Chunk in process: from 2015-10-22 00:00:00 to 2015-12-15 00:00:00\n",
            "\tSkipping.\n",
            "Chunk in process: from 2015-12-15 00:00:00 to 2016-02-08 00:00:00\n",
            "\tSkipping.\n",
            "Chunk in process: from 2016-02-08 00:00:00 to 2016-04-01 00:00:00\n",
            "\tSkipping.\n",
            "Chunk in process: from 2016-04-01 00:00:00 to 2016-05-23 00:00:00\n",
            "\tSkipping.\n",
            "Chunk in process: from 2016-05-23 00:00:00 to 2016-07-14 00:00:00\n",
            "\tSkipping.\n",
            "Chunk in process: from 2016-07-14 00:00:00 to 2016-09-04 00:00:00\n",
            "\tSkipping.\n",
            "Chunk in process: from 2016-09-04 00:00:00 to 2016-10-26 00:00:00\n",
            "\tSkipping.\n",
            "Chunk in process: from 2016-10-26 00:00:00 to 2016-12-15 00:00:00\n",
            "\tSkipping.\n",
            "Chunk in process: from 2016-12-15 00:00:00 to 2017-02-02 00:00:00\n",
            "\tSkipping.\n",
            "Chunk in process: from 2017-02-02 00:00:00 to 2017-03-22 00:00:00\n",
            "\tAppending.\n",
            "Chunk in process: from 2017-03-22 00:00:00 to 2017-05-08 00:00:00\n",
            "\tAppending.\n",
            "Chunk in process: from 2017-05-08 00:00:00 to 2017-06-24 00:00:00\n",
            "\tAppending.\n",
            "Chunk in process: from 2017-06-24 00:00:00 to 2017-08-11 00:00:00\n",
            "\tAppending.\n",
            "Chunk in process: from 2017-08-11 00:00:00 to 2017-08-15 00:00:00\n",
            "\tAppending.\n",
            "Final date range in data is from 2017-02-02 to 2017-08-15.\n"
          ]
        },
        {
          "output_type": "execute_result",
          "data": {
            "text/plain": [
              "0"
            ]
          },
          "metadata": {},
          "execution_count": 2
        }
      ],
      "source": [
        "# The initial_cutoff_date below will be used to check whether the chunk in process should be\n",
        "# appended to the final dataframe or skipped. Every chunk with maximum date larger than the\n",
        "# initial_cutoff_date will be appended to the final dataframe.\n",
        "\n",
        "initial_cutoff_date = pd.to_datetime('2017-03-01', format='%Y-%m-%d')\n",
        "df_all = pd.DataFrame()\n",
        "for chunk in df_train_chunks:\n",
        "  min_date = pd.to_datetime(chunk['date'].min(), format='%Y-%m-%d')\n",
        "  max_date = pd.to_datetime(chunk['date'].max(), format='%Y-%m-%d')\n",
        "  print(f'Chunk in process: from {min_date} to {max_date}')\n",
        "\n",
        "  if max_date > initial_cutoff_date:\n",
        "    print('\\tAppending.')\n",
        "    if df_all.empty:\n",
        "      df_all = chunk.copy()\n",
        "    else:\n",
        "      df_all = pd.concat([df_all, chunk]).reset_index(drop=True)\n",
        "  else:\n",
        "    print('\\tSkipping.')\n",
        "\n",
        "del(chunk)\n",
        "\n",
        "min_date = df_all['date'].min()\n",
        "max_date = df_all['date'].max()\n",
        "print(f'Final date range in data is from {min_date} to {max_date}.')\n",
        "\n",
        "df_all['date'] = pd.to_datetime(df_all['date'], format='%Y-%m-%d') #Convert Date column\n",
        "df_all = df_all.drop('id', axis=1) #ID column is not required\n",
        "\n",
        "df_all['store_nbr'] = df_all['store_nbr'].astype('int32') #Downcast into int32 to save memory\n",
        "df_all['item_nbr'] = df_all['item_nbr'].astype('int32') #Downcast into int32 to save memory\n",
        "\n",
        "gc.collect()"
      ]
    },
    {
      "cell_type": "code",
      "execution_count": 3,
      "metadata": {
        "colab": {
          "base_uri": "https://localhost:8080/"
        },
        "id": "Ar-YyF3kjX1f",
        "outputId": "aa7ed800-7939-40d6-d041-e7e01b24f24a"
      },
      "outputs": [
        {
          "output_type": "stream",
          "name": "stdout",
          "text": [
            "<class 'pandas.core.frame.DataFrame'>\n",
            "RangeIndex: 20497040 entries, 0 to 20497039\n",
            "Data columns (total 5 columns):\n",
            " #   Column       Dtype         \n",
            "---  ------       -----         \n",
            " 0   date         datetime64[ns]\n",
            " 1   store_nbr    int32         \n",
            " 2   item_nbr     int32         \n",
            " 3   unit_sales   float64       \n",
            " 4   onpromotion  bool          \n",
            "dtypes: bool(1), datetime64[ns](1), float64(1), int32(2)\n",
            "memory usage: 488.7 MB\n"
          ]
        }
      ],
      "source": [
        "df_all.info()"
      ]
    },
    {
      "cell_type": "code",
      "execution_count": 4,
      "metadata": {
        "colab": {
          "base_uri": "https://localhost:8080/"
        },
        "id": "KJX9OEhiXipb",
        "outputId": "f1d4cafc-9162-46d9-c7ba-f40cff603511"
      },
      "outputs": [
        {
          "output_type": "stream",
          "name": "stdout",
          "text": [
            "There are 195 days in total.\n",
            "There are 0 missing dates between 2017-02-02 and 2017-08-15\n",
            "There are 54 unique stores and 4006 unique items\n",
            "Not all the stores are available in 77 days.\n"
          ]
        }
      ],
      "source": [
        "#Check the number of unique items and stores and their availability through out the training period\n",
        "\n",
        "unique_dates = df_all['date'].unique()\n",
        "print(f'There are {len(unique_dates)} days in total.')\n",
        "all_dates = pd.date_range(min_date, max_date)\n",
        "missing_dates = np.setdiff1d(all_dates, unique_dates)\n",
        "print(f'There are {len(missing_dates)} missing dates between {min_date} and {max_date}')\n",
        "\n",
        "unique_stores = df_all['store_nbr'].unique()\n",
        "num_unique_stores = len(unique_stores)\n",
        "unique_items  = df_all['item_nbr'].unique()\n",
        "num_unique_items = len(unique_items)\n",
        "print(f'There are {num_unique_stores} unique stores and {num_unique_items} unique items')\n",
        "\n",
        "df_store_temp = df_all.groupby('date')['store_nbr'].nunique().reset_index()\n",
        "store_mismatch = df_store_temp[df_store_temp['store_nbr'] < num_unique_stores]['date'].values\n",
        "print(f'Not all the stores are available in {len(store_mismatch)} days.')\n",
        "del df_store_temp\n",
        "gc.collect();"
      ]
    },
    {
      "cell_type": "code",
      "execution_count": 5,
      "metadata": {
        "id": "KjE1cG1edKO4"
      },
      "outputs": [],
      "source": [
        "#First date is removed due to possible improper chunking\n",
        "\n",
        "df_all = df_all[df_all['date'] != min_date].copy()\n",
        "gc.collect()\n",
        "\n",
        "min_date = pd.to_datetime(df_all['date'].min(), format='%Y-%m-%d')\n",
        "unique_dates = df_all['date'].unique()"
      ]
    },
    {
      "cell_type": "code",
      "execution_count": 6,
      "metadata": {
        "id": "-y9Wza7SHvT_"
      },
      "outputs": [],
      "source": [
        "# Turn target column unit_sales into log(unit_sales+1), since final performance\n",
        "# is evaluated based on log(unit_sales+1)\n",
        "\n",
        "df_all['unit_sales'] = np.log(np.clip(df_all['unit_sales'].values, a_min=0, a_max=None) + 1)"
      ]
    },
    {
      "cell_type": "code",
      "execution_count": 7,
      "metadata": {
        "colab": {
          "base_uri": "https://localhost:8080/"
        },
        "id": "NZoeJqP0N3kV",
        "outputId": "4b3776e0-51c8-4b7e-945b-67ed9467f174"
      },
      "outputs": [
        {
          "output_type": "execute_result",
          "data": {
            "text/plain": [
              "0"
            ]
          },
          "metadata": {},
          "execution_count": 7
        }
      ],
      "source": [
        "#--Create a hold out test set for final testing----------------------------------------\n",
        "# Holdout test set is created such that it hold 16 days in the future for predictions.\n",
        "# That means test_date is selected to be 2017-07-30, so that dates from 2017-07-31 to\n",
        "# 2017-08-15 (16 days in total) is received for forecasting.\n",
        "\n",
        "test_date = pd.to_datetime('2017-07-30', format='%Y-%m-%d')\n",
        "df_holdout = df_all[(df_all['date'] >= test_date)].copy()\n",
        "df_all = df_all[(df_all['date'] < test_date)].copy()\n",
        "gc.collect()"
      ]
    },
    {
      "cell_type": "code",
      "execution_count": 8,
      "metadata": {
        "colab": {
          "base_uri": "https://localhost:8080/"
        },
        "id": "xtEQtBZGMn5K",
        "outputId": "62fb85a5-1d5d-4266-e240-36d43ec5290c"
      },
      "outputs": [
        {
          "output_type": "stream",
          "name": "stdout",
          "text": [
            "With selected maximum lag window lower cutoff date for training is 2017-02-10 00:00:00\n"
          ]
        }
      ],
      "source": [
        "# The training set lower cutoff date is selected such that the first \"lag_window_max\" days\n",
        "# are reserved to build lagged features.\n",
        "\n",
        "lag_window_max = 7\n",
        "train_cutoff_lower = min_date + pd.Timedelta(days = lag_window_max)\n",
        "print(f'With selected maximum lag window lower cutoff date for training is {train_cutoff_lower}')"
      ]
    },
    {
      "cell_type": "code",
      "execution_count": 9,
      "metadata": {
        "colab": {
          "base_uri": "https://localhost:8080/"
        },
        "id": "DneZKhHKcoDf",
        "outputId": "513d7db9-997e-454c-dc65-eb2b8abf10a9"
      },
      "outputs": [
        {
          "output_type": "execute_result",
          "data": {
            "text/plain": [
              "0"
            ]
          },
          "metadata": {},
          "execution_count": 9
        }
      ],
      "source": [
        "# Hold-out test set requires history build lagged features.\n",
        "# Therefore, hold-out test set is appended with lag_window_max\n",
        "# number of days in history with respect to test_date\n",
        "\n",
        "df_holout_history = df_all[(df_all['date'] < test_date) & (df_all['date'] >= test_date - pd.Timedelta(days = lag_window_max))].copy()\n",
        "df_holdout = pd.concat([df_holdout, df_holout_history]).sort_values(by='date').reset_index(drop=True)\n",
        "\n",
        "del df_holout_history\n",
        "gc.collect()"
      ]
    },
    {
      "cell_type": "code",
      "execution_count": 10,
      "metadata": {
        "id": "Mpna5kzgKfPj"
      },
      "outputs": [],
      "source": [
        "#--Merge Store and Item dataframes-------------------------------------------\n",
        "def merge_item(df_all):\n",
        "  df_item = pd.read_csv('items.csv')\n",
        "  df_all = df_all.merge(df_item, on='item_nbr', how='left')\n",
        "\n",
        "  del df_item\n",
        "  gc.collect()\n",
        "\n",
        "  return df_all\n",
        "\n",
        "df_all = merge_item(df_all)"
      ]
    },
    {
      "cell_type": "code",
      "execution_count": 11,
      "metadata": {
        "id": "EUoACdaDYcsG"
      },
      "outputs": [],
      "source": [
        "#--Merge Store Dataframe-----------------------------------------------------\n",
        "def merge_store(df_all):\n",
        "  df_store = pd.read_csv('stores.csv')\n",
        "  df_all = df_all.merge(df_store, on='store_nbr', how='left')\n",
        "\n",
        "  del df_store\n",
        "  gc.collect()\n",
        "\n",
        "  return df_all\n",
        "\n",
        "df_all = merge_store(df_all)"
      ]
    },
    {
      "cell_type": "markdown",
      "metadata": {
        "id": "OFpDAl0_MssF"
      },
      "source": [
        "#### Model Set 1 - Aggregated Based on Item and Store Columns:\n",
        "\n",
        "This LightGBM model set is to produce predictions without item IDs. This is because new item ID s may be introduced to testing set as per the competition description. It is assumed that store IDs will remain constant.\n",
        "\n",
        "The model set is trained with data as below."
      ]
    },
    {
      "cell_type": "code",
      "source": [
        "print(f\"Model Set-1 is trained with data from {train_cutoff_lower} (>=) to test_date which is {test_date} (<).\")"
      ],
      "metadata": {
        "colab": {
          "base_uri": "https://localhost:8080/"
        },
        "id": "_SWpIaohI67M",
        "outputId": "3e301bda-64a6-47c6-91ca-f8c7ea952b75"
      },
      "execution_count": 12,
      "outputs": [
        {
          "output_type": "stream",
          "name": "stdout",
          "text": [
            "Model Set-1 is trained with data from 2017-02-10 00:00:00 (>=) to test_date which is 2017-07-30 00:00:00 (<).\n"
          ]
        }
      ]
    },
    {
      "cell_type": "code",
      "execution_count": 13,
      "metadata": {
        "colab": {
          "base_uri": "https://localhost:8080/"
        },
        "id": "kcW1R326LUFZ",
        "outputId": "1385ab34-f36a-4fab-eab1-eb36e23c0e03"
      },
      "outputs": [
        {
          "output_type": "execute_result",
          "data": {
            "text/plain": [
              "0"
            ]
          },
          "metadata": {},
          "execution_count": 13
        }
      ],
      "source": [
        "# For this model item_nbr and store_nbr will not be used.\n",
        "# Model will procude predictions based on store and item metadata\n",
        "\n",
        "df_all_model1 = df_all.drop(['item_nbr', 'store_nbr'], axis=1).copy()\n",
        "#del df_all #If there are other model sets, keep it.\n",
        "gc.collect()"
      ]
    },
    {
      "cell_type": "code",
      "execution_count": 14,
      "metadata": {
        "colab": {
          "base_uri": "https://localhost:8080/"
        },
        "id": "-rIhbVGMOjeC",
        "outputId": "c94e00b0-b0c0-4fd1-8c9b-e10730a134bc"
      },
      "outputs": [
        {
          "output_type": "execute_result",
          "data": {
            "text/plain": [
              "0"
            ]
          },
          "metadata": {},
          "execution_count": 14
        }
      ],
      "source": [
        "# Aggregate 'unit_sales' and 'onpromotion' columns grouped by store and item metadata.\n",
        "# Unit sales is aggregated as the mean across same store and item metadata.\n",
        "# Thus the model will produce predictions for the mean of uni_sales across store and item meta data.\n",
        "\n",
        "df_all_model1_agg = df_all_model1.groupby(['date', 'city', 'state', 'type', 'cluster','family','class','perishable'])['unit_sales'].mean().reset_index()\n",
        "df_all_model1_agg = df_all_model1_agg.rename(columns={'unit_sales': 'unit_sales_mean'})\n",
        "\n",
        "df_all_model1_agg['promotion_sum'] = df_all_model1.groupby(['date','city', 'state', 'type', 'cluster','family','class','perishable'])['onpromotion'].sum().reset_index()['onpromotion'].astype('int32')\n",
        "\n",
        "del df_all_model1\n",
        "gc.collect()"
      ]
    },
    {
      "cell_type": "code",
      "execution_count": 15,
      "metadata": {
        "id": "2zabXS_KpvjS"
      },
      "outputs": [],
      "source": [
        "#--Merge other dataframes----------------------------------------------------\n",
        "def merge_oil_and_holidays(df_all):\n",
        "  df_oil = pd.read_csv('oil.csv')\n",
        "  df_oil['date'] = pd.to_datetime(df_oil['date'], format='%Y-%m-%d')\n",
        "  df_all = df_all.merge(df_oil, on='date', how='left')\n",
        "  df_all = df_all.rename(columns={'dcoilwtico': 'oil_price'})\n",
        "  df_all['oil_price'] = df_all['oil_price'].astype('float32')\n",
        "\n",
        "  df_holidays = pd.read_csv('holidays_events.csv')\n",
        "  df_holidays['date'] = pd.to_datetime(df_holidays['date'], format='%Y-%m-%d')\n",
        "  df_holidays = df_holidays[['date', 'type']]\n",
        "  df_holidays = df_holidays.drop_duplicates()\n",
        "  df_holidays = df_holidays.rename(columns={'type': 'holiday'})\n",
        "  df_all = df_all.merge(df_holidays, on='date', how='left')\n",
        "  df_all['holiday'] = df_all['holiday'].fillna('None')\n",
        "\n",
        "  del df_oil, df_holidays\n",
        "  gc.collect()\n",
        "\n",
        "  return df_all\n",
        "\n",
        "df_all_model1_agg = merge_oil_and_holidays(df_all_model1_agg)\n",
        "\n",
        "#--Create Time Features------------------------------------------------------\n",
        "def create_time_features(df_all):\n",
        "  df_all['day_of_month'] = df_all['date'].dt.day.astype('int32')\n",
        "  df_all['is_weekend'] = df_all['date'].dt.dayofweek.isin([5, 6]).astype('int32')\n",
        "  df_all[\"pay_day\"] = ((df_all[\"day_of_month\"] == 15) | (df_all['date'].dt.is_month_end)).astype('int32')\n",
        "  gc.collect();\n",
        "\n",
        "  return df_all\n",
        "\n",
        "df_all_model1_agg = create_time_features(df_all_model1_agg)\n",
        "#----------------------------------------------------------------------------"
      ]
    },
    {
      "cell_type": "code",
      "execution_count": 16,
      "metadata": {
        "id": "UlsfVRt6biho"
      },
      "outputs": [],
      "source": [
        "# Downcast columns to save memory\n",
        "\n",
        "#--Encode Catergorical Features as 'category' to Save RAM--------------------\n",
        "def encode_cat(df_all):\n",
        "  df_all['holiday'] = df_all['holiday'].astype('category')\n",
        "  df_all['city'] = df_all['city'].astype('category')\n",
        "  df_all['state'] = df_all['state'].astype('category')\n",
        "  df_all['type'] = df_all['type'].astype('category')\n",
        "  df_all['cluster'] = df_all['cluster'].astype('category')\n",
        "  df_all['family'] = df_all['family'].astype('category')\n",
        "  df_all['class'] = df_all['class'].astype('int32')\n",
        "  df_all['perishable'] = df_all['perishable'].astype('int32')\n",
        "\n",
        "  gc.collect()\n",
        "  return df_all\n",
        "\n",
        "df_all_model1_agg = encode_cat(df_all_model1_agg)\n",
        "#----------------------------------------------------------------------------"
      ]
    },
    {
      "cell_type": "code",
      "execution_count": 17,
      "metadata": {
        "colab": {
          "base_uri": "https://localhost:8080/"
        },
        "id": "OeyURnDBCjfg",
        "outputId": "ca665c67-516b-43b2-9c47-1d84b29a1d13"
      },
      "outputs": [
        {
          "output_type": "stream",
          "name": "stdout",
          "text": [
            "<class 'pandas.core.frame.DataFrame'>\n",
            "RangeIndex: 1651705 entries, 0 to 1651704\n",
            "Data columns (total 15 columns):\n",
            " #   Column           Non-Null Count    Dtype         \n",
            "---  ------           --------------    -----         \n",
            " 0   date             1651705 non-null  datetime64[ns]\n",
            " 1   city             1651705 non-null  category      \n",
            " 2   state            1651705 non-null  category      \n",
            " 3   type             1651705 non-null  category      \n",
            " 4   cluster          1651705 non-null  category      \n",
            " 5   family           1651705 non-null  category      \n",
            " 6   class            1651705 non-null  int32         \n",
            " 7   perishable       1651705 non-null  int32         \n",
            " 8   unit_sales_mean  1651705 non-null  float64       \n",
            " 9   promotion_sum    1651705 non-null  int32         \n",
            " 10  oil_price        1116018 non-null  float32       \n",
            " 11  holiday          1651705 non-null  category      \n",
            " 12  day_of_month     1651705 non-null  int32         \n",
            " 13  is_weekend       1651705 non-null  int32         \n",
            " 14  pay_day          1651705 non-null  int32         \n",
            "dtypes: category(6), datetime64[ns](1), float32(1), float64(1), int32(6)\n",
            "memory usage: 78.8 MB\n"
          ]
        }
      ],
      "source": [
        "df_all_model1_agg.info()"
      ]
    },
    {
      "cell_type": "code",
      "execution_count": 18,
      "metadata": {
        "id": "-r1NiP_zCne5"
      },
      "outputs": [],
      "source": [
        "def created_lagged_features_model1(df_all, lag_window_max):\n",
        "  df_all = df_all.sort_values(by=['date']).reset_index(drop=True)\n",
        "\n",
        "  for lag in range(1, lag_window_max + 1):\n",
        "    df_all[f'unit_sales_lag_{lag}'] = df_all.groupby(['city', 'state', 'type', 'cluster', 'family', 'class', 'perishable'], observed=False)['unit_sales_mean'].shift(lag).astype('float32')\n",
        "    df_all[f'promotion_lag_{lag}']  = df_all.groupby(['city', 'state', 'type', 'cluster', 'family', 'class', 'perishable'], observed=False)['promotion_sum'].shift(lag).astype('float32')\n",
        "\n",
        "  for lag in range(1, lag_window_max + 1):\n",
        "    df_all[f'unit_sales_diff_{lag}'] = df_all.groupby(['city', 'state', 'type', 'cluster', 'family', 'class', 'perishable'], observed=False)['unit_sales_mean'].diff(lag).astype('float32')\n",
        "    df_all[f'promotion_diff_{lag}']  = df_all.groupby(['city', 'state', 'type', 'cluster', 'family', 'class', 'perishable'], observed=False)['promotion_sum'].diff(lag).astype('float32')\n",
        "\n",
        "  for lag in range(2, lag_window_max + 1):\n",
        "    df_all[f'unit_sales_mean_{lag}'] = df_all.groupby(['city', 'state', 'type', 'cluster', 'family', 'class', 'perishable'], observed=False)['unit_sales_mean'].rolling(window=lag).mean().reset_index(drop=True).astype('float32')\n",
        "    df_all[f'promotion_mean_{lag}']  = df_all.groupby(['city', 'state', 'type', 'cluster', 'family', 'class', 'perishable'], observed=False)['promotion_sum'].rolling(window=lag).mean().reset_index(drop=True).astype('float32')\n",
        "\n",
        "  for lag in range(2, lag_window_max + 1):\n",
        "    df_all[f'unit_sales_std_{lag}'] = df_all.groupby(['city', 'state', 'type', 'cluster', 'family', 'class', 'perishable'], observed=False)['unit_sales_mean'].rolling(window=lag).std().reset_index(drop=True).astype('float32')\n",
        "    df_all[f'promotion_std_{lag}']  = df_all.groupby(['city', 'state', 'type', 'cluster', 'family', 'class', 'perishable'], observed=False)['promotion_sum'].rolling(window=lag).std().reset_index(drop=True).astype('float32')\n",
        "\n",
        "  return df_all\n",
        "\n",
        "df_all_model1_agg = created_lagged_features_model1(df_all_model1_agg, lag_window_max)"
      ]
    },
    {
      "cell_type": "code",
      "execution_count": 19,
      "metadata": {
        "id": "I-vXB9vu3mvq"
      },
      "outputs": [],
      "source": [
        "# Obtain the targets for training for each feature vector.\n",
        "# Targets are obtained by shifting the unit_sales appropiately\n",
        "\n",
        "def create_targets(df_all):\n",
        "  df_all = df_all.sort_values(by=['date']).reset_index(drop=True)\n",
        "\n",
        "  for i in range(1,16+1):\n",
        "    df_all[f'target_{i}'] = df_all.groupby(['city', 'state', 'type', 'cluster', 'family', 'class', 'perishable'], observed=False)['unit_sales_mean'].shift(-i).fillna(0)\n",
        "\n",
        "  return df_all\n",
        "\n",
        "df_all_model1_agg = create_targets(df_all_model1_agg)"
      ]
    },
    {
      "cell_type": "markdown",
      "source": [
        "### The below code cells produce plots to analys the relationship between target and features. (Can be omitted from execution)"
      ],
      "metadata": {
        "id": "95tL0pxVzoYF"
      }
    },
    {
      "cell_type": "code",
      "execution_count": null,
      "metadata": {
        "colab": {
          "base_uri": "https://localhost:8080/",
          "height": 583
        },
        "id": "ariuxclaTPhb",
        "outputId": "85a2f2b6-c953-4fe1-9810-c1c9743d776d"
      },
      "outputs": [
        {
          "output_type": "stream",
          "name": "stderr",
          "text": [
            "<ipython-input-20-e343b2378975>:6: FutureWarning: The default of observed=False is deprecated and will be changed to True in a future version of pandas. Pass observed=False to retain current behavior or observed=True to adopt the future default and silence this warning.\n",
            "  df_all_model1_agg.groupby('holiday')['unit_sales_mean'].mean().plot(kind='bar')\n"
          ]
        },
        {
          "output_type": "display_data",
          "data": {
            "text/plain": [
              "<Figure size 640x480 with 1 Axes>"
            ],
            "image/png": "[encoded data removed]"
          },
          "metadata": {}
        }
      ],
      "source": [
        "#Generate bar chart of 'unit_sales' based on values of 'holiday'\n",
        "\n",
        "import matplotlib.pyplot as plt\n",
        "import seaborn as sns\n",
        "\n",
        "df_all_model1_agg.groupby('holiday')['unit_sales_mean'].mean().plot(kind='bar')\n",
        "plt.ylim(1.44,1.55)\n",
        "plt.title('Mean Unit Sales by Holiday')\n",
        "plt.ylabel('Mean Unit Sales')\n",
        "plt.xlabel('Holiday')\n",
        "plt.grid()\n",
        "plt.show()"
      ]
    },
    {
      "cell_type": "code",
      "execution_count": null,
      "metadata": {
        "colab": {
          "base_uri": "https://localhost:8080/",
          "height": 476
        },
        "id": "VLDlLGEnc1aY",
        "outputId": "124bef21-17dd-42e6-e113-366f212418c2"
      },
      "outputs": [
        {
          "data": {
            "image/png": "[encoded data removed]",
            "text/plain": [
              "<Figure size 640x480 with 1 Axes>"
            ]
          },
          "metadata": {},
          "output_type": "display_data"
        }
      ],
      "source": [
        "#Generate a scatter plot of 'unit_sales' with 'oil_price'\n",
        "\n",
        "import matplotlib.pyplot as plt\n",
        "import seaborn as sns\n",
        "\n",
        "df_all_model1_agg.groupby('day_of_month')['unit_sales_mean'].mean().plot(kind='bar')\n",
        "plt.ylim(1.4,1.65)\n",
        "plt.title('Mean Unit Sales by day_of_month')\n",
        "plt.ylabel('Mean Unit Sales')\n",
        "plt.xlabel('day_of_month')\n",
        "plt.grid()\n",
        "plt.show()"
      ]
    },
    {
      "cell_type": "code",
      "execution_count": null,
      "metadata": {
        "colab": {
          "base_uri": "https://localhost:8080/",
          "height": 472
        },
        "id": "W3AhcZ_eZktx",
        "outputId": "51e348ba-48b0-4833-9859-c818c67b5670"
      },
      "outputs": [
        {
          "data": {
            "image/png": "[encoded data removed]",
            "text/plain": [
              "<Figure size 640x480 with 1 Axes>"
            ]
          },
          "metadata": {},
          "output_type": "display_data"
        }
      ],
      "source": [
        "#Generate bar chart of 'unit_sales' based on values of 'day_of_month'\n",
        "\n",
        "import matplotlib.pyplot as plt\n",
        "import seaborn as sns\n",
        "\n",
        "df_temp = df_all_model1_agg.groupby('date')['unit_sales_mean'].mean().reset_index()\n",
        "df_temp['oil_price'] = df_all_model1_agg.groupby('date')['oil_price'].mean().reset_index()['oil_price']\n",
        "\n",
        "plt.scatter(df_temp['oil_price'], df_temp['unit_sales_mean'])\n",
        "plt.title('Mean Unit Sales by Oil Price')\n",
        "plt.ylabel('Mean Unit Sales')\n",
        "plt.xlabel('Oil Price')\n",
        "plt.grid()\n",
        "plt.show()"
      ]
    },
    {
      "cell_type": "markdown",
      "source": [
        "### Training of the model"
      ],
      "metadata": {
        "id": "k0Dx2aO60EW2"
      }
    },
    {
      "cell_type": "code",
      "execution_count": 20,
      "metadata": {
        "colab": {
          "base_uri": "https://localhost:8080/"
        },
        "id": "hh_vGDNsHd7w",
        "outputId": "18a1f8fc-e65e-41ee-9191-ae8d5047a103"
      },
      "outputs": [
        {
          "output_type": "stream",
          "name": "stdout",
          "text": [
            "Training for unit sales 1 days in future.\n",
            "\tTraining set from 2017-02-10 00:00:00 to 2017-07-29 00:00:00\n",
            "\tTraining for unit sales 1 days in future completed.\n",
            "Training for unit sales 2 days in future.\n",
            "\tTraining set from 2017-02-10 00:00:00 to 2017-07-28 00:00:00\n",
            "\tTraining for unit sales 2 days in future completed.\n",
            "Training for unit sales 3 days in future.\n",
            "\tTraining set from 2017-02-10 00:00:00 to 2017-07-27 00:00:00\n",
            "\tTraining for unit sales 3 days in future completed.\n",
            "Training for unit sales 4 days in future.\n",
            "\tTraining set from 2017-02-10 00:00:00 to 2017-07-26 00:00:00\n",
            "\tTraining for unit sales 4 days in future completed.\n",
            "Training for unit sales 5 days in future.\n",
            "\tTraining set from 2017-02-10 00:00:00 to 2017-07-25 00:00:00\n",
            "\tTraining for unit sales 5 days in future completed.\n",
            "Training for unit sales 6 days in future.\n",
            "\tTraining set from 2017-02-10 00:00:00 to 2017-07-24 00:00:00\n",
            "\tTraining for unit sales 6 days in future completed.\n",
            "Training for unit sales 7 days in future.\n",
            "\tTraining set from 2017-02-10 00:00:00 to 2017-07-23 00:00:00\n",
            "\tTraining for unit sales 7 days in future completed.\n",
            "Training for unit sales 8 days in future.\n",
            "\tTraining set from 2017-02-10 00:00:00 to 2017-07-22 00:00:00\n",
            "\tTraining for unit sales 8 days in future completed.\n",
            "Training for unit sales 9 days in future.\n",
            "\tTraining set from 2017-02-10 00:00:00 to 2017-07-21 00:00:00\n",
            "\tTraining for unit sales 9 days in future completed.\n",
            "Training for unit sales 10 days in future.\n",
            "\tTraining set from 2017-02-10 00:00:00 to 2017-07-20 00:00:00\n",
            "\tTraining for unit sales 10 days in future completed.\n",
            "Training for unit sales 11 days in future.\n",
            "\tTraining set from 2017-02-10 00:00:00 to 2017-07-19 00:00:00\n",
            "\tTraining for unit sales 11 days in future completed.\n",
            "Training for unit sales 12 days in future.\n",
            "\tTraining set from 2017-02-10 00:00:00 to 2017-07-18 00:00:00\n",
            "\tTraining for unit sales 12 days in future completed.\n",
            "Training for unit sales 13 days in future.\n",
            "\tTraining set from 2017-02-10 00:00:00 to 2017-07-17 00:00:00\n",
            "\tTraining for unit sales 13 days in future completed.\n",
            "Training for unit sales 14 days in future.\n",
            "\tTraining set from 2017-02-10 00:00:00 to 2017-07-16 00:00:00\n",
            "\tTraining for unit sales 14 days in future completed.\n",
            "Training for unit sales 15 days in future.\n",
            "\tTraining set from 2017-02-10 00:00:00 to 2017-07-15 00:00:00\n",
            "\tTraining for unit sales 15 days in future completed.\n",
            "Training for unit sales 16 days in future.\n",
            "\tTraining set from 2017-02-10 00:00:00 to 2017-07-14 00:00:00\n",
            "\tTraining for unit sales 16 days in future completed.\n"
          ]
        },
        {
          "output_type": "execute_result",
          "data": {
            "text/plain": [
              "64"
            ]
          },
          "metadata": {},
          "execution_count": 20
        }
      ],
      "source": [
        "import lightgbm as lgb\n",
        "\n",
        "df_train = df_all_model1_agg[(df_all_model1_agg['date'] >= train_cutoff_lower) & (df_all_model1_agg['date'] < test_date)]\n",
        "\n",
        "model_parameters = {\n",
        "    'num_leaves': 40,\n",
        "    'min_data_in_leaf': 200,\n",
        "    'learning_rate': 0.02,\n",
        "    'feature_fraction': 0.8,\n",
        "    'bagging_fraction': 0.7,\n",
        "    'bagging_freq': 1,\n",
        "    \"max_bin\": 350,\n",
        "    'objective': 'regression',\n",
        "    'metric': 'l2',\n",
        "    \"verbose\": 0,\n",
        "    }\n",
        "\n",
        "cat_columns = ['family', 'class', 'perishable', 'city', 'state', 'type', 'cluster', 'holiday', 'day_of_month', 'is_weekend', 'pay_day']\n",
        "lag_cols = [f'unit_sales_lag_{i}' for i in range(1,lag_window_max+1)] + [f'promotion_lag_{i}' for i in range(1,lag_window_max+1)]\n",
        "diff_cols = [f'unit_sales_diff_{i}' for i in range(1,lag_window_max+1)] + [f'promotion_diff_{i}' for i in range(1,lag_window_max+1)]\n",
        "mean_cols = [f'unit_sales_mean_{i}' for i in range(2,lag_window_max+1)] + [f'promotion_mean_{i}' for i in range(2,lag_window_max+1)]\n",
        "std_cols = [f'unit_sales_std_{i}' for i in range(2,lag_window_max+1)] + [f'promotion_std_{i}' for i in range(2,lag_window_max+1)]\n",
        "\n",
        "train_columns = cat_columns + lag_cols + diff_cols + mean_cols + std_cols\n",
        "\n",
        "lgb_model_set1 = []\n",
        "for i in range(1,16+1):\n",
        "  print(f'Training for unit sales {i} days in future.')\n",
        "  df_train_i = df_train[df_train['date'] <= test_date - pd.Timedelta(days = i)].copy()\n",
        "  train_min_date = df_train_i['date'].min()\n",
        "  train_max_date = df_train_i['date'].max()\n",
        "  print(f'\\tTraining set from {train_min_date} to {train_max_date}')\n",
        "  lgb_train = lgb.Dataset(df_train_i[train_columns], df_train_i[f'target_{i}'], categorical_feature=cat_columns)\n",
        "  gbm = lgb.train(\n",
        "    model_parameters,\n",
        "    lgb_train,\n",
        "    num_boost_round=200\n",
        "    )\n",
        "  lgb_model_set1.append(gbm)\n",
        "  print(f'\\tTraining for unit sales {i} days in future completed.')\n",
        "\n",
        "del df_train_i\n",
        "gc.collect()"
      ]
    },
    {
      "cell_type": "markdown",
      "source": [
        "### Inferencing for the Test Date"
      ],
      "metadata": {
        "id": "Yi-V6WNJ0Pgq"
      }
    },
    {
      "cell_type": "code",
      "execution_count": 21,
      "metadata": {
        "id": "GJ0ktjtHcXjq"
      },
      "outputs": [],
      "source": [
        "# Date preparation for inferencing. Using the same functions used for training data preparation\n",
        "\n",
        "\n",
        "df_test_day = df_holdout[df_holdout['date'] <= test_date].copy()\n",
        "df_future   = df_holdout[df_holdout['date'] >  test_date].copy()\n",
        "\n",
        "#del df_holdout\n",
        "gc.collect()\n",
        "\n",
        "df_test_day = merge_item(df_test_day)\n",
        "df_test_day = merge_store(df_test_day)\n",
        "df_test_day_model1 = df_test_day.drop(['item_nbr', 'store_nbr'], axis=1)\n",
        "#del df_test_day #If there are other model sets, keep it.\n",
        "gc.collect()\n",
        "\n",
        "#-Aggregate by Item and Store columns-----------------------------\n",
        "df_test_day_model1_agg = df_test_day_model1.groupby(['date', 'city', 'state', 'type', 'cluster','family','class','perishable'])['unit_sales'].mean().reset_index()\n",
        "df_test_day_model1_agg = df_test_day_model1_agg.rename(columns={'unit_sales': 'unit_sales_mean'})\n",
        "\n",
        "df_test_day_model1_agg['promotion_sum'] = df_test_day_model1.groupby(['date','city', 'state', 'type', 'cluster','family','class','perishable'])['onpromotion'].sum().reset_index()['onpromotion'].astype('int32')\n",
        "\n",
        "#del df_test_day_model1\n",
        "gc.collect()\n",
        "#-------------------------------------------------------\n",
        "\n",
        "df_test_day_model1_agg = merge_oil_and_holidays(df_test_day_model1_agg)\n",
        "\n",
        "df_test_day_model1_agg = create_time_features(df_test_day_model1_agg)\n",
        "\n",
        "df_test_day_model1_agg = encode_cat(df_test_day_model1_agg)\n",
        "\n",
        "df_test_day_model1_agg = created_lagged_features_model1(df_test_day_model1_agg, lag_window_max)"
      ]
    },
    {
      "cell_type": "code",
      "execution_count": 22,
      "metadata": {
        "id": "Zbc9nuY7hCX9",
        "colab": {
          "base_uri": "https://localhost:8080/"
        },
        "outputId": "9ddadf59-5fba-4320-ccd4-612ea4b64731"
      },
      "outputs": [
        {
          "output_type": "stream",
          "name": "stdout",
          "text": [
            "Predicting for unit sales 1 days in future.\n",
            "\tPredicting for unit sales 1 days in future completed.\n",
            "Predicting for unit sales 2 days in future.\n",
            "\tPredicting for unit sales 2 days in future completed.\n",
            "Predicting for unit sales 3 days in future.\n",
            "\tPredicting for unit sales 3 days in future completed.\n",
            "Predicting for unit sales 4 days in future.\n",
            "\tPredicting for unit sales 4 days in future completed.\n",
            "Predicting for unit sales 5 days in future.\n",
            "\tPredicting for unit sales 5 days in future completed.\n",
            "Predicting for unit sales 6 days in future.\n",
            "\tPredicting for unit sales 6 days in future completed.\n",
            "Predicting for unit sales 7 days in future.\n",
            "\tPredicting for unit sales 7 days in future completed.\n",
            "Predicting for unit sales 8 days in future.\n",
            "\tPredicting for unit sales 8 days in future completed.\n",
            "Predicting for unit sales 9 days in future.\n",
            "\tPredicting for unit sales 9 days in future completed.\n",
            "Predicting for unit sales 10 days in future.\n",
            "\tPredicting for unit sales 10 days in future completed.\n",
            "Predicting for unit sales 11 days in future.\n",
            "\tPredicting for unit sales 11 days in future completed.\n",
            "Predicting for unit sales 12 days in future.\n",
            "\tPredicting for unit sales 12 days in future completed.\n",
            "Predicting for unit sales 13 days in future.\n",
            "\tPredicting for unit sales 13 days in future completed.\n",
            "Predicting for unit sales 14 days in future.\n",
            "\tPredicting for unit sales 14 days in future completed.\n",
            "Predicting for unit sales 15 days in future.\n",
            "\tPredicting for unit sales 15 days in future completed.\n",
            "Predicting for unit sales 16 days in future.\n",
            "\tPredicting for unit sales 16 days in future completed.\n"
          ]
        },
        {
          "output_type": "execute_result",
          "data": {
            "text/plain": [
              "64"
            ]
          },
          "metadata": {},
          "execution_count": 22
        }
      ],
      "source": [
        "# Use the trained models to produce forecasts for each forecasting date.\n",
        "\n",
        "df_test_day_model1_agg = df_test_day_model1_agg[df_test_day_model1_agg['date'] == test_date].copy()\n",
        "\n",
        "for i in range(1,16+1):\n",
        "  print(f'Predicting for unit sales {i} days in future.')\n",
        "  df_test_day_model1_agg[f'unit_sales_prediction_day+{i}'] = lgb_model_set1[i-1].predict(df_test_day_model1_agg[train_columns])\n",
        "  print(f'\\tPredicting for unit sales {i} days in future completed.')\n",
        "\n",
        "gc.collect()"
      ]
    },
    {
      "cell_type": "markdown",
      "source": [
        "#### Merge Predictions to the Future Dataframe"
      ],
      "metadata": {
        "id": "IfvqWGptFcdQ"
      }
    },
    {
      "cell_type": "code",
      "execution_count": 23,
      "metadata": {
        "colab": {
          "base_uri": "https://localhost:8080/"
        },
        "id": "Kiqv8_zGYxnD",
        "outputId": "68a867d0-4d18-4581-a18f-960329ab26db"
      },
      "outputs": [
        {
          "output_type": "execute_result",
          "data": {
            "text/plain": [
              "0"
            ]
          },
          "metadata": {},
          "execution_count": 23
        }
      ],
      "source": [
        "prediction_columns = ['city', 'state', 'type', 'cluster', 'family', 'class', 'perishable'] + [ f'unit_sales_prediction_day+{i}' for i in range(1,16+1)] + ['unit_sales_mean_2', 'unit_sales_lag_1']\n",
        "df_test_day_model1_agg = df_test_day_model1_agg[prediction_columns]\n",
        "\n",
        "df_future = merge_item(df_future)\n",
        "df_future = merge_store(df_future)\n",
        "df_future = df_future.merge(df_test_day_model1_agg, on=['city', 'state', 'type', 'cluster', 'family', 'class', 'perishable'], how='left')\n",
        "#del df_test_day_model1_agg\n",
        "gc.collect()\n",
        "\n",
        "df_future['unit_sales_prediction_model1'] = 0.0\n",
        "for i in range(1,16+1):\n",
        "  df_future.loc[df_future['date'] == test_date + pd.Timedelta(days = i), 'unit_sales_prediction_model1'] = df_future.loc[df_future['date'] == test_date + pd.Timedelta(days = i), f'unit_sales_prediction_day+{i}']\n",
        "df_future = df_future.drop([f'unit_sales_prediction_day+{i}' for i in range(1,16+1)], axis=1)\n",
        "\n",
        "gc.collect()"
      ]
    },
    {
      "cell_type": "code",
      "execution_count": 24,
      "metadata": {
        "id": "Tt9ZGlW1NoNb"
      },
      "outputs": [],
      "source": [
        "#-For benchmarking and post processing-----------------------------------\n",
        "df_future = df_future.rename(columns={'unit_sales_lag_1': 'unit_sales_prediction_lag1', 'unit_sales_mean_2': 'unit_sales_prediction_mean2'})\n",
        "df_future['unit_sales_prediction_cnst0'] = 1\n",
        "#------------------------------------------------------------------------"
      ]
    },
    {
      "cell_type": "markdown",
      "source": [
        "### Evaluate Model Performance and Benchmark"
      ],
      "metadata": {
        "id": "YimRrRbW02GS"
      }
    },
    {
      "cell_type": "code",
      "execution_count": 25,
      "metadata": {
        "colab": {
          "base_uri": "https://localhost:8080/"
        },
        "id": "9aYW2XnlnO13",
        "outputId": "0816a2f4-45ba-4b41-fcfc-b51341c00096"
      },
      "outputs": [
        {
          "output_type": "stream",
          "name": "stdout",
          "text": [
            "Hold-out score for Model1       : 0.7365684401734632\n",
            "Hold-out score for Constant One : 1.1106297976379111\n",
            "Hold-out score for 2-day mean   : 0.9563308773078102\n"
          ]
        }
      ],
      "source": [
        "df_future['weight'] = df_future['perishable'].apply(lambda x: 1.25 if x == 1 else 1.0)\n",
        "\n",
        "df_future['model1: error^2 * weight'] = df_future['weight'] * ((df_future['unit_sales_prediction_model1'] - df_future['unit_sales'])**2)\n",
        "hold_out_score_model1 = np.sqrt(df_future['model1: error^2 * weight'].sum()/df_future['weight'].sum())\n",
        "print(f'Hold-out score for Model1       : {hold_out_score_model1}')\n",
        "\n",
        "df_future['cnst0: error^2 * weight'] = df_future['weight'] * ((df_future['unit_sales_prediction_cnst0'] - df_future['unit_sales'])**2)\n",
        "hold_out_score_model1 = np.sqrt(df_future['cnst0: error^2 * weight'].sum()/df_future['weight'].sum())\n",
        "print(f'Hold-out score for Constant One : {hold_out_score_model1}')\n",
        "\n",
        "df_future['mean2: error^2 * weight'] = df_future['weight'] * ((df_future['unit_sales_prediction_mean2'] - df_future['unit_sales'])**2)\n",
        "hold_out_score_model1 = np.sqrt(df_future['mean2: error^2 * weight'].sum()/df_future['weight'].sum())\n",
        "print(f'Hold-out score for 2-day mean   : {hold_out_score_model1}')"
      ]
    },
    {
      "cell_type": "markdown",
      "source": [
        "### Model Set 1: Explanation"
      ],
      "metadata": {
        "id": "bIb24DIt075G"
      }
    },
    {
      "cell_type": "code",
      "execution_count": null,
      "metadata": {
        "id": "SM2aWEfj6gdj"
      },
      "outputs": [],
      "source": [
        "#plot feature importance for each forecasting day\n",
        "\n",
        "import matplotlib.pyplot as plt\n",
        "import seaborn as sns\n",
        "\n",
        "for i in range(1,16+1):\n",
        "  y = lgb_model_set1[i-1].feature_importance()\n",
        "  x = train_columns\n",
        "\n",
        "  #sort x and y both based on y\n",
        "  y, x = zip(*sorted(zip(y, x), reverse=True))\n",
        "\n",
        "  plt.bar(x[:10], y[:10])\n",
        "  plt.title(f'Feature Importance for Day {i}')\n",
        "  plt.xticks(rotation=90)\n",
        "  plt.show()\n"
      ]
    },
    {
      "cell_type": "markdown",
      "source": [
        "#### Model Set 2 - Aggregated Based on Item and Store Columns:\n",
        "\n",
        "This LightGBM model set is also to produce predictions without item IDs. However, it is trained with less smaller training set immediately adjuscent to the testing day.\n",
        "\n",
        "The model set is trained with date range as below (30 Days data before the test_date)."
      ],
      "metadata": {
        "id": "oSQdD0X-HUoq"
      }
    },
    {
      "cell_type": "code",
      "source": [
        "train_cutoff_lower_modelset2 = test_date - pd.Timedelta(days = 30)\n",
        "print(f\"Model Set-2 is trained with data from {train_cutoff_lower_modelset2} (>=) to test_date which is {test_date} (<).\")"
      ],
      "metadata": {
        "colab": {
          "base_uri": "https://localhost:8080/"
        },
        "id": "IxTQPTuvHslj",
        "outputId": "46701d6b-d995-4750-af1a-b6337d325ea6"
      },
      "execution_count": 33,
      "outputs": [
        {
          "output_type": "stream",
          "name": "stdout",
          "text": [
            "Model Set-2 is trained with data from 2017-06-30 00:00:00 (>=) to test_date which is 2017-07-30 00:00:00 (<).\n"
          ]
        }
      ]
    },
    {
      "cell_type": "code",
      "source": [
        "import lightgbm as lgb\n",
        "\n",
        "df_train = df_all_model1_agg[(df_all_model1_agg['date'] >= train_cutoff_lower_modelset2) & (df_all_model1_agg['date'] < test_date)]\n",
        "\n",
        "model_parameters = {\n",
        "    'num_leaves': 80,\n",
        "    'min_data_in_leaf': 200,\n",
        "    'learning_rate': 0.02,\n",
        "    'feature_fraction': 0.8,\n",
        "    'bagging_fraction': 0.7,\n",
        "    'bagging_freq': 1,\n",
        "    \"max_bin\": 350,\n",
        "    'objective': 'regression',\n",
        "    'metric': 'l2',\n",
        "    \"verbose\": 0,\n",
        "    }\n",
        "\n",
        "cat_columns = ['family', 'class', 'perishable', 'city', 'state', 'type', 'cluster', 'holiday', 'day_of_month', 'is_weekend', 'pay_day']\n",
        "lag_cols = [f'unit_sales_lag_{i}' for i in range(1,lag_window_max+1)] + [f'promotion_lag_{i}' for i in range(1,lag_window_max+1)]\n",
        "diff_cols = [f'unit_sales_diff_{i}' for i in range(1,lag_window_max+1)] + [f'promotion_diff_{i}' for i in range(1,lag_window_max+1)]\n",
        "mean_cols = [f'unit_sales_mean_{i}' for i in range(2,lag_window_max+1)] + [f'promotion_mean_{i}' for i in range(2,lag_window_max+1)]\n",
        "std_cols = [f'unit_sales_std_{i}' for i in range(2,lag_window_max+1)] + [f'promotion_std_{i}' for i in range(2,lag_window_max+1)]\n",
        "\n",
        "train_columns = cat_columns + lag_cols + diff_cols + mean_cols + std_cols\n",
        "\n",
        "lgb_model_set2 = []\n",
        "for i in range(1,16+1):\n",
        "  print(f'Training for unit sales {i} days in future.')\n",
        "  df_train_i = df_train[df_train['date'] <= test_date - pd.Timedelta(days = i)].copy()\n",
        "  train_min_date = df_train_i['date'].min()\n",
        "  train_max_date = df_train_i['date'].max()\n",
        "  print(f'\\tTraining set from {train_min_date} to {train_max_date}')\n",
        "  lgb_train = lgb.Dataset(df_train_i[train_columns], df_train_i[f'target_{i}'], categorical_feature=cat_columns)\n",
        "  gbm = lgb.train(\n",
        "    model_parameters,\n",
        "    lgb_train,\n",
        "    num_boost_round=200\n",
        "    )\n",
        "  lgb_model_set2.append(gbm)\n",
        "  print(f'\\tTraining for unit sales {i} days in future completed.')\n",
        "\n",
        "del df_train_i\n",
        "gc.collect()"
      ],
      "metadata": {
        "colab": {
          "base_uri": "https://localhost:8080/"
        },
        "id": "-i2FaKahKH_3",
        "outputId": "9fdafd0f-e0d8-4f54-c5c4-47aba818dbdb"
      },
      "execution_count": 34,
      "outputs": [
        {
          "output_type": "stream",
          "name": "stdout",
          "text": [
            "Training for unit sales 1 days in future.\n",
            "\tTraining set from 2017-06-30 00:00:00 to 2017-07-29 00:00:00\n",
            "\tTraining for unit sales 1 days in future completed.\n",
            "Training for unit sales 2 days in future.\n",
            "\tTraining set from 2017-06-30 00:00:00 to 2017-07-28 00:00:00\n",
            "\tTraining for unit sales 2 days in future completed.\n",
            "Training for unit sales 3 days in future.\n",
            "\tTraining set from 2017-06-30 00:00:00 to 2017-07-27 00:00:00\n",
            "\tTraining for unit sales 3 days in future completed.\n",
            "Training for unit sales 4 days in future.\n",
            "\tTraining set from 2017-06-30 00:00:00 to 2017-07-26 00:00:00\n",
            "\tTraining for unit sales 4 days in future completed.\n",
            "Training for unit sales 5 days in future.\n",
            "\tTraining set from 2017-06-30 00:00:00 to 2017-07-25 00:00:00\n",
            "\tTraining for unit sales 5 days in future completed.\n",
            "Training for unit sales 6 days in future.\n",
            "\tTraining set from 2017-06-30 00:00:00 to 2017-07-24 00:00:00\n",
            "\tTraining for unit sales 6 days in future completed.\n",
            "Training for unit sales 7 days in future.\n",
            "\tTraining set from 2017-06-30 00:00:00 to 2017-07-23 00:00:00\n",
            "\tTraining for unit sales 7 days in future completed.\n",
            "Training for unit sales 8 days in future.\n",
            "\tTraining set from 2017-06-30 00:00:00 to 2017-07-22 00:00:00\n",
            "\tTraining for unit sales 8 days in future completed.\n",
            "Training for unit sales 9 days in future.\n",
            "\tTraining set from 2017-06-30 00:00:00 to 2017-07-21 00:00:00\n",
            "\tTraining for unit sales 9 days in future completed.\n",
            "Training for unit sales 10 days in future.\n",
            "\tTraining set from 2017-06-30 00:00:00 to 2017-07-20 00:00:00\n",
            "\tTraining for unit sales 10 days in future completed.\n",
            "Training for unit sales 11 days in future.\n",
            "\tTraining set from 2017-06-30 00:00:00 to 2017-07-19 00:00:00\n",
            "\tTraining for unit sales 11 days in future completed.\n",
            "Training for unit sales 12 days in future.\n",
            "\tTraining set from 2017-06-30 00:00:00 to 2017-07-18 00:00:00\n",
            "\tTraining for unit sales 12 days in future completed.\n",
            "Training for unit sales 13 days in future.\n",
            "\tTraining set from 2017-06-30 00:00:00 to 2017-07-17 00:00:00\n",
            "\tTraining for unit sales 13 days in future completed.\n",
            "Training for unit sales 14 days in future.\n",
            "\tTraining set from 2017-06-30 00:00:00 to 2017-07-16 00:00:00\n",
            "\tTraining for unit sales 14 days in future completed.\n",
            "Training for unit sales 15 days in future.\n",
            "\tTraining set from 2017-06-30 00:00:00 to 2017-07-15 00:00:00\n",
            "\tTraining for unit sales 15 days in future completed.\n",
            "Training for unit sales 16 days in future.\n",
            "\tTraining set from 2017-06-30 00:00:00 to 2017-07-14 00:00:00\n",
            "\tTraining for unit sales 16 days in future completed.\n"
          ]
        },
        {
          "output_type": "execute_result",
          "data": {
            "text/plain": [
              "96"
            ]
          },
          "metadata": {},
          "execution_count": 34
        }
      ]
    },
    {
      "cell_type": "markdown",
      "source": [
        "#### Inference, Merging with Future Dataframe and Evaluation\n",
        "\n",
        "The following steps are identical to previouse model."
      ],
      "metadata": {
        "id": "iGPm2M1hFq0C"
      }
    },
    {
      "cell_type": "code",
      "source": [
        "# Date preparation for inferencing. Using the same functions used for training data preparation\n",
        "df_test_day = df_holdout[df_holdout['date'] <= test_date].copy()\n",
        "\n",
        "df_test_day = merge_item(df_test_day)\n",
        "df_test_day = merge_store(df_test_day)\n",
        "df_test_day_model2 = df_test_day.drop(['item_nbr', 'store_nbr'], axis=1)\n",
        "#del df_test_day #If there are other model sets, keep it.\n",
        "gc.collect()\n",
        "\n",
        "#-Aggregate by Item and Store columns-----------------------------\n",
        "df_test_day_model2_agg = df_test_day_model2.groupby(['date', 'city', 'state', 'type', 'cluster','family','class','perishable'])['unit_sales'].mean().reset_index()\n",
        "df_test_day_model2_agg = df_test_day_model2_agg.rename(columns={'unit_sales': 'unit_sales_mean'})\n",
        "\n",
        "df_test_day_model2_agg['promotion_sum'] = df_test_day_model2.groupby(['date','city', 'state', 'type', 'cluster','family','class','perishable'])['onpromotion'].sum().reset_index()['onpromotion'].astype('int32')\n",
        "\n",
        "#del df_test_day_model1\n",
        "gc.collect()\n",
        "#-------------------------------------------------------\n",
        "\n",
        "df_test_day_model2_agg = merge_oil_and_holidays(df_test_day_model2_agg)\n",
        "\n",
        "df_test_day_model2_agg = create_time_features(df_test_day_model2_agg)\n",
        "\n",
        "df_test_day_model2_agg = encode_cat(df_test_day_model2_agg)\n",
        "\n",
        "df_test_day_model2_agg = created_lagged_features_model1(df_test_day_model2_agg, lag_window_max)"
      ],
      "metadata": {
        "id": "p0XMHV9RLJuP"
      },
      "execution_count": 35,
      "outputs": []
    },
    {
      "cell_type": "code",
      "source": [
        "# Use the trained models to produce forecasts for each forecasting date.\n",
        "\n",
        "df_test_day_model2_agg = df_test_day_model2_agg[df_test_day_model2_agg['date'] == test_date].copy()\n",
        "\n",
        "for i in range(1,16+1):\n",
        "  print(f'Predicting for unit sales {i} days in future.')\n",
        "  df_test_day_model2_agg[f'unit_sales_model2_prediction_day+{i}'] = lgb_model_set2[i-1].predict(df_test_day_model2_agg[train_columns])\n",
        "  print(f'\\tPredicting for unit sales {i} days in future completed.')\n",
        "\n",
        "gc.collect()"
      ],
      "metadata": {
        "colab": {
          "base_uri": "https://localhost:8080/"
        },
        "id": "TAOT0Zn6KxYS",
        "outputId": "b6743335-09e9-4b6f-b74e-bcc938670f15"
      },
      "execution_count": 36,
      "outputs": [
        {
          "output_type": "stream",
          "name": "stdout",
          "text": [
            "Predicting for unit sales 1 days in future.\n",
            "\tPredicting for unit sales 1 days in future completed.\n",
            "Predicting for unit sales 2 days in future.\n",
            "\tPredicting for unit sales 2 days in future completed.\n",
            "Predicting for unit sales 3 days in future.\n",
            "\tPredicting for unit sales 3 days in future completed.\n",
            "Predicting for unit sales 4 days in future.\n",
            "\tPredicting for unit sales 4 days in future completed.\n",
            "Predicting for unit sales 5 days in future.\n",
            "\tPredicting for unit sales 5 days in future completed.\n",
            "Predicting for unit sales 6 days in future.\n",
            "\tPredicting for unit sales 6 days in future completed.\n",
            "Predicting for unit sales 7 days in future.\n",
            "\tPredicting for unit sales 7 days in future completed.\n",
            "Predicting for unit sales 8 days in future.\n",
            "\tPredicting for unit sales 8 days in future completed.\n",
            "Predicting for unit sales 9 days in future.\n",
            "\tPredicting for unit sales 9 days in future completed.\n",
            "Predicting for unit sales 10 days in future.\n",
            "\tPredicting for unit sales 10 days in future completed.\n",
            "Predicting for unit sales 11 days in future.\n",
            "\tPredicting for unit sales 11 days in future completed.\n",
            "Predicting for unit sales 12 days in future.\n",
            "\tPredicting for unit sales 12 days in future completed.\n",
            "Predicting for unit sales 13 days in future.\n",
            "\tPredicting for unit sales 13 days in future completed.\n",
            "Predicting for unit sales 14 days in future.\n",
            "\tPredicting for unit sales 14 days in future completed.\n",
            "Predicting for unit sales 15 days in future.\n",
            "\tPredicting for unit sales 15 days in future completed.\n",
            "Predicting for unit sales 16 days in future.\n",
            "\tPredicting for unit sales 16 days in future completed.\n"
          ]
        },
        {
          "output_type": "execute_result",
          "data": {
            "text/plain": [
              "64"
            ]
          },
          "metadata": {},
          "execution_count": 36
        }
      ]
    },
    {
      "cell_type": "code",
      "source": [
        "prediction_columns = ['city', 'state', 'type', 'cluster', 'family', 'class', 'perishable'] + [ f'unit_sales_model2_prediction_day+{i}' for i in range(1,16+1)] + ['unit_sales_mean_2', 'unit_sales_lag_1']\n",
        "df_test_day_model2_agg = df_test_day_model2_agg[prediction_columns]\n",
        "\n",
        "df_future = df_future.merge(df_test_day_model2_agg, on=['city', 'state', 'type', 'cluster', 'family', 'class', 'perishable'], how='left')\n",
        "#del df_test_day_model1_agg\n",
        "gc.collect()\n",
        "\n",
        "df_future['unit_sales_prediction_model2'] = 0.0\n",
        "for i in range(1,16+1):\n",
        "  df_future.loc[df_future['date'] == test_date + pd.Timedelta(days = i), 'unit_sales_prediction_model2'] = df_future.loc[df_future['date'] == test_date + pd.Timedelta(days = i), f'unit_sales_model2_prediction_day+{i}']\n",
        "df_future = df_future.drop([f'unit_sales_model2_prediction_day+{i}' for i in range(1,16+1)], axis=1)\n",
        "\n",
        "gc.collect()"
      ],
      "metadata": {
        "colab": {
          "base_uri": "https://localhost:8080/"
        },
        "id": "mfSV1eJWL3vL",
        "outputId": "85f45464-d6f8-4676-d44d-241a63a63031"
      },
      "execution_count": 37,
      "outputs": [
        {
          "output_type": "execute_result",
          "data": {
            "text/plain": [
              "0"
            ]
          },
          "metadata": {},
          "execution_count": 37
        }
      ]
    },
    {
      "cell_type": "code",
      "source": [
        "df_future['model2: error^2 * weight'] = df_future['weight'] * (df_future['unit_sales_prediction_model2'] - df_future['unit_sales'])**2\n",
        "hold_out_score_model2 = np.sqrt(df_future['model2: error^2 * weight'].sum()/df_future['weight'].sum())\n",
        "print(f'Hold-out score for Model2       : {hold_out_score_model2}')"
      ],
      "metadata": {
        "colab": {
          "base_uri": "https://localhost:8080/"
        },
        "id": "AQB2l7O8MkZn",
        "outputId": "2edac427-1d2a-4086-c7bb-c915eec53bb1"
      },
      "execution_count": 38,
      "outputs": [
        {
          "output_type": "stream",
          "name": "stdout",
          "text": [
            "Hold-out score for Model2       : 0.7399055755303694\n"
          ]
        }
      ]
    },
    {
      "cell_type": "code",
      "source": [
        "enselble_weight_model2 = 0.3\n",
        "df_future['unit_sales_prediction_model1+model2'] = df_future['unit_sales_prediction_model1'] * (1 - enselble_weight_model2) + df_future['unit_sales_prediction_model2'] * enselble_weight_model2\n",
        "\n",
        "df_future['model1+model2: error^2 * weight'] = df_future['weight'] * (df_future['unit_sales_prediction_model1+model2'] - df_future['unit_sales'])**2\n",
        "hold_out_score_model1_model2 = np.sqrt(df_future['model1+model2: error^2 * weight'].sum()/df_future['weight'].sum())\n",
        "print(f'Hold-out score for Model1+Model2: {hold_out_score_model1_model2}')"
      ],
      "metadata": {
        "colab": {
          "base_uri": "https://localhost:8080/"
        },
        "id": "FI7vk1l3MweE",
        "outputId": "e0170117-e8d1-4b9b-9462-623bc3df1ef1"
      },
      "execution_count": 39,
      "outputs": [
        {
          "output_type": "stream",
          "name": "stdout",
          "text": [
            "Hold-out score for Model1+Model2: 0.7365940100312078\n"
          ]
        }
      ]
    },
    {
      "cell_type": "markdown",
      "source": [
        "#### Model Set 3 - Aggregated Based on Item and Store Columns:\n",
        "\n",
        "This CatBoost model set is also to produce predictions without item IDs. However, trained with less smaller training set immediately adjuscent to the testing day.\n",
        "\n",
        "The model set is trained with date range identical to the smaller LightGBM model set above."
      ],
      "metadata": {
        "id": "0nknXiUDF6i5"
      }
    },
    {
      "cell_type": "code",
      "source": [
        "from catboost import CatBoostRegressor\n",
        "\n",
        "df_train = df_all_model1_agg[(df_all_model1_agg['date'] >= train_cutoff_lower_modelset2) & (df_all_model1_agg['date'] < test_date)]\n",
        "\n",
        "model_parameters = {\n",
        "    'iterations' : 100,\n",
        "    'learning_rate' : 0.1\n",
        "    }\n",
        "\n",
        "cat_columns = ['family', 'class', 'perishable', 'city', 'state', 'type', 'cluster', 'holiday', 'day_of_month', 'is_weekend', 'pay_day']\n",
        "lag_cols = [f'unit_sales_lag_{i}' for i in range(1,lag_window_max+1)] + [f'promotion_lag_{i}' for i in range(1,lag_window_max+1)]\n",
        "diff_cols = [f'unit_sales_diff_{i}' for i in range(1,lag_window_max+1)] + [f'promotion_diff_{i}' for i in range(1,lag_window_max+1)]\n",
        "mean_cols = [f'unit_sales_mean_{i}' for i in range(2,lag_window_max+1)] + [f'promotion_mean_{i}' for i in range(2,lag_window_max+1)]\n",
        "std_cols = [f'unit_sales_std_{i}' for i in range(2,lag_window_max+1)] + [f'promotion_std_{i}' for i in range(2,lag_window_max+1)]\n",
        "\n",
        "train_columns = cat_columns + lag_cols + diff_cols + mean_cols + std_cols\n",
        "\n",
        "catboost_model_set1 = []\n",
        "for i in range(1,16+1):\n",
        "  print(f'Training for unit sales {i} days in future.')\n",
        "  df_train_i = df_train[df_train['date'] <= test_date - pd.Timedelta(days = i)].copy()\n",
        "  train_min_date = df_train_i['date'].min()\n",
        "  train_max_date = df_train_i['date'].max()\n",
        "  print(f'\\tTraining set from {train_min_date} to {train_max_date}')\n",
        "  catbst_model = CatBoostRegressor(loss_function='RMSE', **model_parameters, verbose=0)\n",
        "  catbst_model.fit(df_train_i[train_columns], df_train_i[f'target_{i}'], cat_features=cat_columns)\n",
        "  catboost_model_set1.append(catbst_model)\n",
        "  print(f'\\tTraining for unit sales {i} days in future completed.')\n",
        "\n",
        "del df_train_i\n",
        "gc.collect()"
      ],
      "metadata": {
        "colab": {
          "base_uri": "https://localhost:8080/"
        },
        "id": "detW8fUmswxY",
        "outputId": "19b14376-c733-429f-ecf7-d014c4066e48"
      },
      "execution_count": 40,
      "outputs": [
        {
          "output_type": "stream",
          "name": "stdout",
          "text": [
            "Training for unit sales 1 days in future.\n",
            "\tTraining set from 2017-06-30 00:00:00 to 2017-07-29 00:00:00\n",
            "\tTraining for unit sales 1 days in future completed.\n",
            "Training for unit sales 2 days in future.\n",
            "\tTraining set from 2017-06-30 00:00:00 to 2017-07-28 00:00:00\n",
            "\tTraining for unit sales 2 days in future completed.\n",
            "Training for unit sales 3 days in future.\n",
            "\tTraining set from 2017-06-30 00:00:00 to 2017-07-27 00:00:00\n",
            "\tTraining for unit sales 3 days in future completed.\n",
            "Training for unit sales 4 days in future.\n",
            "\tTraining set from 2017-06-30 00:00:00 to 2017-07-26 00:00:00\n",
            "\tTraining for unit sales 4 days in future completed.\n",
            "Training for unit sales 5 days in future.\n",
            "\tTraining set from 2017-06-30 00:00:00 to 2017-07-25 00:00:00\n",
            "\tTraining for unit sales 5 days in future completed.\n",
            "Training for unit sales 6 days in future.\n",
            "\tTraining set from 2017-06-30 00:00:00 to 2017-07-24 00:00:00\n",
            "\tTraining for unit sales 6 days in future completed.\n",
            "Training for unit sales 7 days in future.\n",
            "\tTraining set from 2017-06-30 00:00:00 to 2017-07-23 00:00:00\n",
            "\tTraining for unit sales 7 days in future completed.\n",
            "Training for unit sales 8 days in future.\n",
            "\tTraining set from 2017-06-30 00:00:00 to 2017-07-22 00:00:00\n",
            "\tTraining for unit sales 8 days in future completed.\n",
            "Training for unit sales 9 days in future.\n",
            "\tTraining set from 2017-06-30 00:00:00 to 2017-07-21 00:00:00\n",
            "\tTraining for unit sales 9 days in future completed.\n",
            "Training for unit sales 10 days in future.\n",
            "\tTraining set from 2017-06-30 00:00:00 to 2017-07-20 00:00:00\n",
            "\tTraining for unit sales 10 days in future completed.\n",
            "Training for unit sales 11 days in future.\n",
            "\tTraining set from 2017-06-30 00:00:00 to 2017-07-19 00:00:00\n",
            "\tTraining for unit sales 11 days in future completed.\n",
            "Training for unit sales 12 days in future.\n",
            "\tTraining set from 2017-06-30 00:00:00 to 2017-07-18 00:00:00\n",
            "\tTraining for unit sales 12 days in future completed.\n",
            "Training for unit sales 13 days in future.\n",
            "\tTraining set from 2017-06-30 00:00:00 to 2017-07-17 00:00:00\n",
            "\tTraining for unit sales 13 days in future completed.\n",
            "Training for unit sales 14 days in future.\n",
            "\tTraining set from 2017-06-30 00:00:00 to 2017-07-16 00:00:00\n",
            "\tTraining for unit sales 14 days in future completed.\n",
            "Training for unit sales 15 days in future.\n",
            "\tTraining set from 2017-06-30 00:00:00 to 2017-07-15 00:00:00\n",
            "\tTraining for unit sales 15 days in future completed.\n",
            "Training for unit sales 16 days in future.\n",
            "\tTraining set from 2017-06-30 00:00:00 to 2017-07-14 00:00:00\n",
            "\tTraining for unit sales 16 days in future completed.\n"
          ]
        },
        {
          "output_type": "execute_result",
          "data": {
            "text/plain": [
              "0"
            ]
          },
          "metadata": {},
          "execution_count": 40
        }
      ]
    },
    {
      "cell_type": "markdown",
      "source": [
        "#### Inference, Merging with Future Dataframe and Evaluation\n",
        "\n",
        "The following steps are identical to previouse models."
      ],
      "metadata": {
        "id": "d_wE1xTQF-cU"
      }
    },
    {
      "cell_type": "code",
      "source": [
        "# Date preparation for inferencing. Using the same functions used for training data preparation\n",
        "df_test_day = df_holdout[df_holdout['date'] <= test_date].copy()\n",
        "\n",
        "df_test_day = merge_item(df_test_day)\n",
        "df_test_day = merge_store(df_test_day)\n",
        "df_test_day_model3 = df_test_day.drop(['item_nbr', 'store_nbr'], axis=1)\n",
        "#del df_test_day #If there are other model sets, keep it.\n",
        "gc.collect()\n",
        "\n",
        "#-Aggregate by Item and Store columns-----------------------------\n",
        "df_test_day_model3_agg = df_test_day_model3.groupby(['date', 'city', 'state', 'type', 'cluster','family','class','perishable'])['unit_sales'].mean().reset_index()\n",
        "df_test_day_model3_agg = df_test_day_model3_agg.rename(columns={'unit_sales': 'unit_sales_mean'})\n",
        "\n",
        "df_test_day_model3_agg['promotion_sum'] = df_test_day_model3.groupby(['date','city', 'state', 'type', 'cluster','family','class','perishable'])['onpromotion'].sum().reset_index()['onpromotion'].astype('int32')\n",
        "\n",
        "#del df_test_day_model1\n",
        "gc.collect()\n",
        "#-------------------------------------------------------\n",
        "\n",
        "df_test_day_model3_agg = merge_oil_and_holidays(df_test_day_model3_agg)\n",
        "\n",
        "df_test_day_model3_agg = create_time_features(df_test_day_model3_agg)\n",
        "\n",
        "df_test_day_model3_agg = encode_cat(df_test_day_model3_agg)\n",
        "\n",
        "df_test_day_model3_agg = created_lagged_features_model1(df_test_day_model3_agg, lag_window_max)"
      ],
      "metadata": {
        "id": "cHbL0E0fzLE5"
      },
      "execution_count": 41,
      "outputs": []
    },
    {
      "cell_type": "code",
      "source": [
        "# Use the trained models to produce forecasts for each forecasting date.\n",
        "\n",
        "df_test_day_model3_agg = df_test_day_model3_agg[df_test_day_model3_agg['date'] == test_date].copy()\n",
        "\n",
        "for i in range(1,16+1):\n",
        "  print(f'Predicting for unit sales {i} days in future.')\n",
        "  df_test_day_model3_agg[f'unit_sales_model3_prediction_day+{i}'] = catboost_model_set1[i-1].predict(df_test_day_model3_agg[train_columns])\n",
        "  print(f'\\tPredicting for unit sales {i} days in future completed.')\n",
        "\n",
        "gc.collect()"
      ],
      "metadata": {
        "colab": {
          "base_uri": "https://localhost:8080/"
        },
        "id": "jss4N1N61Hyj",
        "outputId": "ee665a43-31d4-4861-feb4-ca8496df365c"
      },
      "execution_count": 42,
      "outputs": [
        {
          "output_type": "stream",
          "name": "stdout",
          "text": [
            "Predicting for unit sales 1 days in future.\n",
            "\tPredicting for unit sales 1 days in future completed.\n",
            "Predicting for unit sales 2 days in future.\n",
            "\tPredicting for unit sales 2 days in future completed.\n",
            "Predicting for unit sales 3 days in future.\n",
            "\tPredicting for unit sales 3 days in future completed.\n",
            "Predicting for unit sales 4 days in future.\n",
            "\tPredicting for unit sales 4 days in future completed.\n",
            "Predicting for unit sales 5 days in future.\n",
            "\tPredicting for unit sales 5 days in future completed.\n",
            "Predicting for unit sales 6 days in future.\n",
            "\tPredicting for unit sales 6 days in future completed.\n",
            "Predicting for unit sales 7 days in future.\n",
            "\tPredicting for unit sales 7 days in future completed.\n",
            "Predicting for unit sales 8 days in future.\n",
            "\tPredicting for unit sales 8 days in future completed.\n",
            "Predicting for unit sales 9 days in future.\n",
            "\tPredicting for unit sales 9 days in future completed.\n",
            "Predicting for unit sales 10 days in future.\n",
            "\tPredicting for unit sales 10 days in future completed.\n",
            "Predicting for unit sales 11 days in future.\n",
            "\tPredicting for unit sales 11 days in future completed.\n",
            "Predicting for unit sales 12 days in future.\n",
            "\tPredicting for unit sales 12 days in future completed.\n",
            "Predicting for unit sales 13 days in future.\n",
            "\tPredicting for unit sales 13 days in future completed.\n",
            "Predicting for unit sales 14 days in future.\n",
            "\tPredicting for unit sales 14 days in future completed.\n",
            "Predicting for unit sales 15 days in future.\n",
            "\tPredicting for unit sales 15 days in future completed.\n",
            "Predicting for unit sales 16 days in future.\n",
            "\tPredicting for unit sales 16 days in future completed.\n"
          ]
        },
        {
          "output_type": "execute_result",
          "data": {
            "text/plain": [
              "0"
            ]
          },
          "metadata": {},
          "execution_count": 42
        }
      ]
    },
    {
      "cell_type": "code",
      "source": [
        "prediction_columns = ['city', 'state', 'type', 'cluster', 'family', 'class', 'perishable'] + [ f'unit_sales_model3_prediction_day+{i}' for i in range(1,16+1)] + ['unit_sales_mean_2', 'unit_sales_lag_1']\n",
        "df_test_day_model3_agg = df_test_day_model3_agg[prediction_columns]\n",
        "\n",
        "df_future = df_future.merge(df_test_day_model3_agg, on=['city', 'state', 'type', 'cluster', 'family', 'class', 'perishable'], how='left')\n",
        "#del df_test_day_model1_agg\n",
        "gc.collect()\n",
        "\n",
        "df_future['unit_sales_prediction_model3'] = 0.0\n",
        "for i in range(1,16+1):\n",
        "  df_future.loc[df_future['date'] == test_date + pd.Timedelta(days = i), 'unit_sales_prediction_model3'] = df_future.loc[df_future['date'] == test_date + pd.Timedelta(days = i), f'unit_sales_model3_prediction_day+{i}']\n",
        "df_future = df_future.drop([f'unit_sales_model3_prediction_day+{i}' for i in range(1,16+1)], axis=1)\n",
        "\n",
        "gc.collect()"
      ],
      "metadata": {
        "colab": {
          "base_uri": "https://localhost:8080/"
        },
        "id": "noclwj571dxr",
        "outputId": "324d5ddb-2d16-4125-adf4-df5cbf7ddee3"
      },
      "execution_count": 43,
      "outputs": [
        {
          "output_type": "execute_result",
          "data": {
            "text/plain": [
              "0"
            ]
          },
          "metadata": {},
          "execution_count": 43
        }
      ]
    },
    {
      "cell_type": "code",
      "source": [
        "df_future['model3: error^2 * weight'] = df_future['weight'] * (df_future['unit_sales_prediction_model3'] - df_future['unit_sales'])**2\n",
        "hold_out_score_model3 = np.sqrt(df_future['model3: error^2 * weight'].sum()/df_future['weight'].sum())\n",
        "print(f'Hold-out score for Model3       : {hold_out_score_model3}')"
      ],
      "metadata": {
        "colab": {
          "base_uri": "https://localhost:8080/"
        },
        "id": "o5vsT2p51ys8",
        "outputId": "a5f8c9ce-da68-4291-ebcb-32ad6e6ad5b7"
      },
      "execution_count": 44,
      "outputs": [
        {
          "output_type": "stream",
          "name": "stdout",
          "text": [
            "Hold-out score for Model3       : 0.7427677717499215\n"
          ]
        }
      ]
    },
    {
      "cell_type": "code",
      "source": [
        "enselble_weight_model3 = 0.1\n",
        "df_future['unit_sales_prediction_model1+model3'] = df_future['unit_sales_prediction_model1'] * (1 - enselble_weight_model3) + df_future['unit_sales_prediction_model3'] * enselble_weight_model3\n",
        "\n",
        "df_future['model1+model3: error^2 * weight'] = df_future['weight'] * (df_future['unit_sales_prediction_model1+model3'] - df_future['unit_sales'])**2\n",
        "hold_out_score_model1_model3 = np.sqrt(df_future['model1+model3: error^2 * weight'].sum()/df_future['weight'].sum())\n",
        "print(f'Hold-out score for Model1+Model3: {hold_out_score_model1_model3}')"
      ],
      "metadata": {
        "colab": {
          "base_uri": "https://localhost:8080/"
        },
        "id": "F30q7jUX1-sA",
        "outputId": "d800b866-65ee-49d7-c206-9eece660009a"
      },
      "execution_count": 58,
      "outputs": [
        {
          "output_type": "stream",
          "name": "stdout",
          "text": [
            "Hold-out score for Model1+Model3: 0.7363903851981255\n"
          ]
        }
      ]
    },
    {
      "cell_type": "code",
      "source": [],
      "metadata": {
        "id": "A3kVKdsGLX-J"
      },
      "execution_count": null,
      "outputs": []
    }
  ],
  "metadata": {
    "colab": {
      "provenance": [],
      "mount_file_id": "1AdkgIc1hCEyFHJHG2QIJ3ou22WECnXUp",
      "authorship_tag": "ABX9TyNeaev3qMhtIZvFA18D54ir",
      "include_colab_link": true
    },
    "kernelspec": {
      "display_name": "Python 3",
      "name": "python3"
    },
    "language_info": {
      "name": "python"
    }
  },
  "nbformat": 4,
  "nbformat_minor": 0
}